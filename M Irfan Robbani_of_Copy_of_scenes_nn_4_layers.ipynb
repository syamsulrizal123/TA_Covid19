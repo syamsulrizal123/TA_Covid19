{
  "nbformat": 4,
  "nbformat_minor": 0,
  "metadata": {
    "kernelspec": {
      "name": "python3",
      "display_name": "Python 3"
    },
    "language_info": {
      "codemirror_mode": {
        "name": "ipython",
        "version": 3
      },
      "file_extension": ".py",
      "mimetype": "text/x-python",
      "name": "python",
      "nbconvert_exporter": "python",
      "pygments_lexer": "ipython3",
      "version": "3.7.4"
    },
    "colab": {
      "name": "Copy of Copy of Copy of scenes_nn_4 layers.ipynb",
      "provenance": [],
      "collapsed_sections": [],
      "toc_visible": true,
      "include_colab_link": true
    },
    "accelerator": "GPU"
  },
  "cells": [
    {
      "cell_type": "markdown",
      "metadata": {
        "id": "view-in-github",
        "colab_type": "text"
      },
      "source": [
        "<a href=\"https://colab.research.google.com/github/syamsulrizal123/TA_Covid19/blob/main/M%20Irfan%20Robbani_of_Copy_of_scenes_nn_4_layers.ipynb\" target=\"_parent\"><img src=\"https://colab.research.google.com/assets/colab-badge.svg\" alt=\"Open In Colab\"/></a>"
      ]
    },
    {
      "cell_type": "code",
      "metadata": {
        "id": "_dJvuvIBVLS_",
        "colab": {
          "base_uri": "https://localhost:8080/"
        },
        "outputId": "6601bbdc-ef22-4636-c34c-344bece76828"
      },
      "source": [
        "from google.colab import drive\n",
        "drive.mount('/content/drive')"
      ],
      "execution_count": 1,
      "outputs": [
        {
          "output_type": "stream",
          "text": [
            "Drive already mounted at /content/drive; to attempt to forcibly remount, call drive.mount(\"/content/drive\", force_remount=True).\n"
          ],
          "name": "stdout"
        }
      ]
    },
    {
      "cell_type": "code",
      "metadata": {
        "id": "H215ikbNVVZS",
        "colab": {
          "base_uri": "https://localhost:8080/"
        },
        "outputId": "869976d6-79d7-4532-a8bf-8b8d38ffe373"
      },
      "source": [
        "cd /content/drive/MyDrive/Dataset/test/"
      ],
      "execution_count": 2,
      "outputs": [
        {
          "output_type": "stream",
          "text": [
            "/content/drive/MyDrive/Dataset/test\n"
          ],
          "name": "stdout"
        }
      ]
    },
    {
      "cell_type": "code",
      "metadata": {
        "id": "z7VB1d4wVdov",
        "colab": {
          "base_uri": "https://localhost:8080/"
        },
        "outputId": "521df0d1-700e-4763-b317-1cb750ed375a"
      },
      "source": [
        "ls"
      ],
      "execution_count": 3,
      "outputs": [
        {
          "output_type": "stream",
          "text": [
            " \u001b[0m\u001b[01;34mclahe\u001b[0m/      \u001b[01;34mcovidset\u001b[0m/  \u001b[01;34m'gaussian sigma 5'\u001b[0m/   \u001b[01;34mnormalizedjpg\u001b[0m/\n",
            " \u001b[01;34mclahejpg\u001b[0m/   \u001b[01;34mgaussian\u001b[0m/   \u001b[01;34mnormalized\u001b[0m/          \u001b[01;34mprepros\u001b[0m/\n"
          ],
          "name": "stdout"
        }
      ]
    },
    {
      "cell_type": "code",
      "metadata": {
        "id": "5IGm26ZzVGBs"
      },
      "source": [
        "# import the necessary packages\n",
        "import tensorflow as tf\n",
        "from tensorflow import keras\n",
        "from keras.models import Sequential\n",
        "from keras.layers.convolutional import Conv2D\n",
        "from keras.layers.convolutional import MaxPooling2D\n",
        "from keras.layers.core import Activation\n",
        "from keras.layers.core import Flatten\n",
        "from keras.layers.core import Dense\n",
        "from keras.optimizers import Adam, SGD, RMSprop\n",
        "from sklearn.preprocessing import LabelBinarizer\n",
        "from sklearn.model_selection import train_test_split\n",
        "from sklearn.metrics import classification_report\n",
        "from PIL import Image\n",
        "from imutils import paths\n",
        "import numpy as np\n",
        "import os\n",
        "import matplotlib.pyplot as plt"
      ],
      "execution_count": 4,
      "outputs": []
    },
    {
      "cell_type": "code",
      "metadata": {
        "colab": {
          "base_uri": "https://localhost:8080/"
        },
        "id": "xjWZ0YQc1tAP",
        "outputId": "87fba633-f09b-45cf-9137-2041757ff8c2"
      },
      "source": [
        "#Normalized covid dataset\n",
        "import PIL.Image as pil_image\n",
        "import io\n",
        "path ='/content/drive/MyDrive/Dataset/test/covidset/Covid/'\n",
        "path_no = 1\n",
        "for paths in os.listdir(path) :\n",
        "  if paths.endswith(\".tif\"):\n",
        "    filepath = os.path.join(path, paths)\n",
        "    img = Image.open(filepath)\n",
        "    array=np.array(img)\n",
        "    max_val=np.amax(array)\n",
        "    normalized=(array/max_val)\n",
        "    im = pil_image.fromarray(normalized)\n",
        "    if path_no < 10 :\n",
        "      save_path='/content/drive/MyDrive/Dataset/test/normalized/Covid/' + str('IM0000') +str(path_no) + '.tif'\n",
        "    elif path_no <100 :\n",
        "      save_path='/content/drive/MyDrive/Dataset/test/normalized/Covid/' + str('IM000') +str(path_no) + '.tif'\n",
        "    else :\n",
        "      save_path='/content/drive/MyDrive/Dataset/test/normalized/Covid/' + str('IM00') +str(path_no) + '.tif'\n",
        "    im.save(save_path,'TIFF') \n",
        "    path_no +=1\n",
        "\n",
        "print(\"Normalized Success\")"
      ],
      "execution_count": null,
      "outputs": [
        {
          "output_type": "stream",
          "text": [
            "Normalized Success\n"
          ],
          "name": "stdout"
        }
      ]
    },
    {
      "cell_type": "code",
      "metadata": {
        "id": "vEPcUNKQ2r_1",
        "colab": {
          "base_uri": "https://localhost:8080/"
        },
        "outputId": "cc98c502-e733-4ec1-b3a4-652a08c702d4"
      },
      "source": [
        "#Normalized normal dataset\n",
        "path ='/content/drive/MyDrive/Dataset/test/covidset/Normal/'\n",
        "path_no = 1\n",
        "for paths in os.listdir(path) :\n",
        "  if paths.endswith(\".tif\"):\n",
        "    filepath = os.path.join(path, paths)\n",
        "    img = Image.open(filepath)\n",
        "    array=np.array(img)\n",
        "    max_val=np.amax(array)\n",
        "    normalized=(array/max_val)\n",
        "    im = pil_image.fromarray(normalized)\n",
        "    if path_no < 10 :\n",
        "      save_path='/content/drive/MyDrive/Dataset/test/normalized/Normal/' + str('IM0000') +str(path_no) + '.tif'\n",
        "    elif path_no <100 :\n",
        "      save_path='/content/drive/MyDrive/Dataset/test/normalized/Normal/' + str('IM000') +str(path_no) + '.tif'\n",
        "    else :\n",
        "      save_path='/content/drive/MyDrive/Dataset/test/normalized/Normal/' + str('IM00') +str(path_no) + '.tif'\n",
        "    im.save(save_path,'TIFF') \n",
        "    path_no +=1\n",
        "\n",
        "print(\"Normalized Success\")"
      ],
      "execution_count": null,
      "outputs": [
        {
          "output_type": "stream",
          "text": [
            "Normalized Success\n"
          ],
          "name": "stdout"
        }
      ]
    },
    {
      "cell_type": "code",
      "metadata": {
        "colab": {
          "base_uri": "https://localhost:8080/"
        },
        "id": "0iAu9jK5LMdg",
        "outputId": "e7a05497-1849-4940-feb3-07ea89a2858d"
      },
      "source": [
        "#Gaussian Filter Covid\n",
        "import cv2\n",
        "from skimage import io\n",
        "from skimage.filters import gaussian\n",
        "path ='/content/drive/MyDrive/Dataset/test/normalized/Covid/'\n",
        "path_no = 1\n",
        "for paths in os.listdir(path) :\n",
        "  if paths.endswith(\".tif\"):\n",
        "    filepath = os.path.join(path, paths)\n",
        "    img = Image.open(filepath)\n",
        "    img = np.array(img)\n",
        "    gausfilter = gaussian(img, sigma=1, mode='constant', cval=0.0)\n",
        "    im = Image.fromarray(gausfilter)\n",
        "    if path_no < 10 :\n",
        "      save_path='/content/drive/MyDrive/Dataset/test/gaussian/Covid/' + str('IM0000') +str(path_no) + '.tif'\n",
        "    elif path_no <100 :\n",
        "      save_path='/content/drive/MyDrive/Dataset/test/gaussian/Covid/' + str('IM000') +str(path_no) + '.tif'\n",
        "    else :\n",
        "      save_path='/content/drive/MyDrive/Dataset/test/gaussian/Covid/' + str('IM00') +str(path_no) + '.tif'\n",
        "    im.save(save_path,'TIFF') \n",
        "    path_no +=1\n",
        "\n",
        "print(\"Denoissing Success\")"
      ],
      "execution_count": null,
      "outputs": [
        {
          "output_type": "stream",
          "text": [
            "Denoissing Success\n"
          ],
          "name": "stdout"
        }
      ]
    },
    {
      "cell_type": "code",
      "metadata": {
        "colab": {
          "base_uri": "https://localhost:8080/"
        },
        "id": "p0rtlB6vYxeh",
        "outputId": "a273800d-5f12-4163-8a03-7cb3e0f95bc7"
      },
      "source": [
        "#Gaussian Filter Normal\n",
        "import cv2\n",
        "from skimage import io\n",
        "from skimage.filters import gaussian\n",
        "path ='/content/drive/MyDrive/Dataset/test/normalized/Normal/'\n",
        "path_no = 1\n",
        "for paths in os.listdir(path) :\n",
        "  if paths.endswith(\".tif\"):\n",
        "    filepath = os.path.join(path, paths)\n",
        "    img = Image.open(filepath)\n",
        "    img = np.array(img)\n",
        "    gausfilter = gaussian(img, sigma=1, mode='constant', cval=0.0)\n",
        "    im = Image.fromarray(gausfilter)\n",
        "    if path_no < 10 :\n",
        "      save_path='/content/drive/MyDrive/Dataset/test/gaussian/Normal/' + str('IM0000') +str(path_no) + '.tif'\n",
        "    elif path_no <100 :\n",
        "      save_path='/content/drive/MyDrive/Dataset/test/gaussian/Normal/' + str('IM000') +str(path_no) + '.tif'\n",
        "    else :\n",
        "      save_path='/content/drive/MyDrive/Dataset/test/gaussian/Normal/' + str('IM00') +str(path_no) + '.tif'\n",
        "    im.save(save_path,'TIFF') \n",
        "    path_no +=1\n",
        "\n",
        "print(\"Denoissing Success\")"
      ],
      "execution_count": null,
      "outputs": [
        {
          "output_type": "stream",
          "text": [
            "Denoissing Success\n"
          ],
          "name": "stdout"
        }
      ]
    },
    {
      "cell_type": "code",
      "metadata": {
        "colab": {
          "base_uri": "https://localhost:8080/"
        },
        "id": "caE1m_06lKHE",
        "outputId": "86e9fd1f-45f5-4253-e7bd-c46e426ee41b"
      },
      "source": [
        "#CLAHE Covid\n",
        "from skimage import exposure\n",
        "path ='/content/drive/MyDrive/Dataset/test/normalized/Covid/'\n",
        "path_no = 1\n",
        "for paths in os.listdir(path) :\n",
        "  if paths.endswith(\".tif\"):\n",
        "    filepath = os.path.join(path, paths)\n",
        "    img = Image.open(filepath)\n",
        "    img = np.array(img)\n",
        "    clahe = exposure.equalize_adapthist(img)\n",
        "    im = Image.fromarray(clahe)\n",
        "    if path_no < 10 :\n",
        "      save_path='/content/drive/MyDrive/Dataset/test/clahe/Covid/' + str('IM0000') +str(path_no) + '.tif'\n",
        "    elif path_no <100 :\n",
        "      save_path='/content/drive/MyDrive/Dataset/test/clahe/Covid/' + str('IM000') +str(path_no) + '.tif'\n",
        "    else :\n",
        "      save_path='/content/drive/MyDrive/Dataset/test/clahe/Covid/' + str('IM00') +str(path_no) + '.tif'\n",
        "    im.save(save_path,'TIFF') \n",
        "    path_no +=1\n",
        "\n",
        "print(\"CLAHE Success\")"
      ],
      "execution_count": null,
      "outputs": [
        {
          "output_type": "stream",
          "text": [
            "CLAHE Success\n"
          ],
          "name": "stdout"
        }
      ]
    },
    {
      "cell_type": "code",
      "metadata": {
        "colab": {
          "base_uri": "https://localhost:8080/"
        },
        "id": "13Ng2ZpZgoIk",
        "outputId": "2d075fa4-da6d-4b10-f62b-1f0731b9dc2f"
      },
      "source": [
        "#CLAHE Normal\n",
        "from skimage import exposure\n",
        "path ='/content/drive/MyDrive/Dataset/test/normalized/Normal/'\n",
        "path_no = 1\n",
        "for paths in os.listdir(path) :\n",
        "  if paths.endswith(\".tif\"):\n",
        "    filepath = os.path.join(path, paths)\n",
        "    img = Image.open(filepath)\n",
        "    img = np.array(img)\n",
        "    clahe = exposure.equalize_adapthist(img)\n",
        "    im = Image.fromarray(clahe)\n",
        "    if path_no < 10 :\n",
        "      save_path='/content/drive/MyDrive/Dataset/test/clahe/Normal/' + str('IM0000') +str(path_no) + '.tif'\n",
        "    elif path_no <100 :\n",
        "      save_path='/content/drive/MyDrive/Dataset/test/clahe/Normal/' + str('IM000') +str(path_no) + '.tif'\n",
        "    else :\n",
        "      save_path='/content/drive/MyDrive/Dataset/test/clahe/Normal/' + str('IM00') +str(path_no) + '.tif'\n",
        "    im.save(save_path,'TIFF') \n",
        "    path_no +=1\n",
        "\n",
        "print(\"CLAHE Success\")"
      ],
      "execution_count": null,
      "outputs": [
        {
          "output_type": "stream",
          "text": [
            "CLAHE Success\n"
          ],
          "name": "stdout"
        }
      ]
    },
    {
      "cell_type": "code",
      "metadata": {
        "id": "0-5PXYTsVGBw",
        "colab": {
          "base_uri": "https://localhost:8080/"
        },
        "outputId": "12b7b309-42b3-4cd3-82aa-aab54159354b"
      },
      "source": [
        "# grab all image paths in the input dataset directory, then initialize\n",
        "# our list of images and corresponding class labels\n",
        "print(\"[INFO] loading images...\")\n",
        "imagePaths = paths.list_images(\"normalizedjpg\") \n",
        "data = []\n",
        "labels = []"
      ],
      "execution_count": 5,
      "outputs": [
        {
          "output_type": "stream",
          "text": [
            "[INFO] loading images...\n"
          ],
          "name": "stdout"
        }
      ]
    },
    {
      "cell_type": "code",
      "metadata": {
        "colab": {
          "base_uri": "https://localhost:8080/",
          "height": 286
        },
        "id": "NoUgFcKj17DH",
        "outputId": "f535f41f-bddc-44df-cf85-caa84218d4f7"
      },
      "source": [
        "img = Image.open('/content/drive/MyDrive/Dataset/test/normalizedjpg/Covid/IM00001.jpg')\n",
        "img = img.convert('RGB')\n",
        "plt.imshow(img)"
      ],
      "execution_count": 9,
      "outputs": [
        {
          "output_type": "execute_result",
          "data": {
            "text/plain": [
              "<matplotlib.image.AxesImage at 0x7f5587c8a810>"
            ]
          },
          "metadata": {
            "tags": []
          },
          "execution_count": 9
        },
        {
          "output_type": "display_data",
          "data": {
            "image/png": "[encoded data removed]",
            "text/plain": [
              "<Figure size 432x288 with 1 Axes>"
            ]
          },
          "metadata": {
            "tags": [],
            "needs_background": "light"
          }
        }
      ]
    },
    {
      "cell_type": "code",
      "metadata": {
        "id": "v2Ry_QBmrnGr"
      },
      "source": [
        "# loop over our input images\n",
        "for imagePath in imagePaths:\n",
        "  # load the input image from disk, resize it to 64x64 pixels, scale\n",
        "\t# the pixel intensities to the range [0, 1], and then update our\n",
        "\t# images list\n",
        "  image = Image.open(imagePath)\n",
        "  image = image.convert('RGB')\n",
        "  image = image.resize((227,227))\n",
        "  image = np.array(image)\n",
        "  data.append(image)\n",
        "\n",
        "  # extract the class label from the file path and update the\n",
        "\t# labels list\n",
        "  label = imagePath.split(os.path.sep)[-2]\n",
        "  labels.append(label)"
      ],
      "execution_count": 6,
      "outputs": []
    },
    {
      "cell_type": "code",
      "metadata": {
        "id": "Rzbolh88VGB2",
        "colab": {
          "base_uri": "https://localhost:8080/"
        },
        "outputId": "e1879982-40de-4aac-ee4c-8c89e5872da2"
      },
      "source": [
        "print(labels)"
      ],
      "execution_count": 7,
      "outputs": [
        {
          "output_type": "stream",
          "text": [
            "['Covid', 'Covid', 'Covid', 'Covid', 'Covid', 'Covid', 'Covid', 'Covid', 'Covid', 'Covid', 'Covid', 'Covid', 'Covid', 'Covid', 'Covid', 'Normal', 'Normal', 'Normal', 'Normal', 'Normal', 'Normal', 'Normal', 'Normal', 'Normal', 'Normal', 'Normal', 'Normal', 'Normal', 'Normal', 'Normal']\n"
          ],
          "name": "stdout"
        }
      ]
    },
    {
      "cell_type": "code",
      "metadata": {
        "id": "twd1IeuKVGB5"
      },
      "source": [
        "from sklearn.preprocessing import LabelEncoder\n",
        "from sklearn.model_selection import train_test_split\n",
        "\n",
        "# encode class values as integers\n",
        "encoder = LabelEncoder()\n",
        "encoder.fit(labels)\n",
        "labels = encoder.transform(labels)"
      ],
      "execution_count": 8,
      "outputs": []
    },
    {
      "cell_type": "code",
      "metadata": {
        "id": "5FPCyIqcVGB7",
        "colab": {
          "base_uri": "https://localhost:8080/"
        },
        "outputId": "c7146476-00fd-4a98-f3c3-7a88d2e1ea09"
      },
      "source": [
        "print(labels)"
      ],
      "execution_count": 9,
      "outputs": [
        {
          "output_type": "stream",
          "text": [
            "[0 0 0 0 0 0 0 0 0 0 0 0 0 0 0 1 1 1 1 1 1 1 1 1 1 1 1 1 1 1]\n"
          ],
          "name": "stdout"
        }
      ]
    },
    {
      "cell_type": "code",
      "metadata": {
        "colab": {
          "base_uri": "https://localhost:8080/"
        },
        "id": "mA-PvkOn3d32",
        "outputId": "d308483f-bc2f-4fe3-c04d-cba910c14535"
      },
      "source": [
        "data = np.array(data)\n",
        "data.shape"
      ],
      "execution_count": 10,
      "outputs": [
        {
          "output_type": "execute_result",
          "data": {
            "text/plain": [
              "(30, 227, 227, 3)"
            ]
          },
          "metadata": {
            "tags": []
          },
          "execution_count": 10
        }
      ]
    },
    {
      "cell_type": "code",
      "metadata": {
        "id": "ktZ5hNYwVGB9",
        "colab": {
          "base_uri": "https://localhost:8080/"
        },
        "outputId": "60b8c999-4cbb-479e-ac27-f30be571f635"
      },
      "source": [
        "# perform a training and testing split, using 75% of the data for\n",
        "# training and 25% for evaluation\n",
        "(trainX, testX, trainY, testY) = train_test_split(np.array(data),\tnp.array(labels), test_size=0.25)\n",
        "print(trainX.shape)\n",
        "print(testX.shape)\n",
        "print(trainY.shape)\n",
        "print(testY.shape)"
      ],
      "execution_count": 11,
      "outputs": [
        {
          "output_type": "stream",
          "text": [
            "(22, 227, 227, 3)\n",
            "(8, 227, 227, 3)\n",
            "(22,)\n",
            "(8,)\n"
          ],
          "name": "stdout"
        }
      ]
    },
    {
      "cell_type": "code",
      "metadata": {
        "id": "-1LK97ZhDrRZ"
      },
      "source": [
        "from keras.applications.mobilenet import MobileNet\n",
        "from keras.applications.resnet import ResNet50\n",
        "from keras.callbacks import EarlyStopping, ModelCheckpoint\n",
        "from keras.models import Model\n",
        "from keras.layers import GlobalAveragePooling2D, BatchNormalization, Dropout"
      ],
      "execution_count": 12,
      "outputs": []
    },
    {
      "cell_type": "code",
      "metadata": {
        "id": "1gv-u7AfEBQg",
        "colab": {
          "base_uri": "https://localhost:8080/"
        },
        "outputId": "e140507c-4521-40ba-c652-dbd7939a06b2"
      },
      "source": [
        "model = keras.models.Sequential([\n",
        "    keras.layers.Conv2D(filters=96, kernel_size=(11,11), strides=(4,4), activation='relu', input_shape=(227,227,3)),\n",
        "    keras.layers.BatchNormalization(),\n",
        "    keras.layers.MaxPool2D(pool_size=(3,3), strides=(2,2)),\n",
        "    keras.layers.Conv2D(filters=256, kernel_size=(5,5), strides=(1,1), activation='relu', padding=\"same\"),\n",
        "    keras.layers.BatchNormalization(),\n",
        "    keras.layers.MaxPool2D(pool_size=(3,3), strides=(2,2)),\n",
        "    keras.layers.Conv2D(filters=384, kernel_size=(3,3), strides=(1,1), activation='relu', padding=\"same\"),\n",
        "    keras.layers.BatchNormalization(),\n",
        "    keras.layers.Conv2D(filters=384, kernel_size=(1,1), strides=(1,1), activation='relu', padding=\"same\"),\n",
        "    keras.layers.BatchNormalization(),\n",
        "    keras.layers.Conv2D(filters=256, kernel_size=(1,1), strides=(1,1), activation='relu', padding=\"same\"),\n",
        "    keras.layers.BatchNormalization(),\n",
        "    keras.layers.MaxPool2D(pool_size=(3,3), strides=(2,2)),\n",
        "    keras.layers.Flatten(),\n",
        "    keras.layers.Dense(4096, activation='relu'),\n",
        "    keras.layers.Dropout(0.5),\n",
        "    keras.layers.Dense(4096, activation='relu'),\n",
        "    keras.layers.Dropout(0.5),\n",
        "    keras.layers.Dense(1, activation='softmax')\n",
        "])\n",
        "\n",
        "model.summary()"
      ],
      "execution_count": 13,
      "outputs": [
        {
          "output_type": "stream",
          "text": [
            "Model: \"sequential\"\n",
            "_________________________________________________________________\n",
            "Layer (type)                 Output Shape              Param #   \n",
            "=================================================================\n",
            "conv2d (Conv2D)              (None, 55, 55, 96)        34944     \n",
            "_________________________________________________________________\n",
            "batch_normalization (BatchNo (None, 55, 55, 96)        384       \n",
            "_________________________________________________________________\n",
            "max_pooling2d (MaxPooling2D) (None, 27, 27, 96)        0         \n",
            "_________________________________________________________________\n",
            "conv2d_1 (Conv2D)            (None, 27, 27, 256)       614656    \n",
            "_________________________________________________________________\n",
            "batch_normalization_1 (Batch (None, 27, 27, 256)       1024      \n",
            "_________________________________________________________________\n",
            "max_pooling2d_1 (MaxPooling2 (None, 13, 13, 256)       0         \n",
            "_________________________________________________________________\n",
            "conv2d_2 (Conv2D)            (None, 13, 13, 384)       885120    \n",
            "_________________________________________________________________\n",
            "batch_normalization_2 (Batch (None, 13, 13, 384)       1536      \n",
            "_________________________________________________________________\n",
            "conv2d_3 (Conv2D)            (None, 13, 13, 384)       147840    \n",
            "_________________________________________________________________\n",
            "batch_normalization_3 (Batch (None, 13, 13, 384)       1536      \n",
            "_________________________________________________________________\n",
            "conv2d_4 (Conv2D)            (None, 13, 13, 256)       98560     \n",
            "_________________________________________________________________\n",
            "batch_normalization_4 (Batch (None, 13, 13, 256)       1024      \n",
            "_________________________________________________________________\n",
            "max_pooling2d_2 (MaxPooling2 (None, 6, 6, 256)         0         \n",
            "_________________________________________________________________\n",
            "flatten (Flatten)            (None, 9216)              0         \n",
            "_________________________________________________________________\n",
            "dense (Dense)                (None, 4096)              37752832  \n",
            "_________________________________________________________________\n",
            "dropout (Dropout)            (None, 4096)              0         \n",
            "_________________________________________________________________\n",
            "dense_1 (Dense)              (None, 4096)              16781312  \n",
            "_________________________________________________________________\n",
            "dropout_1 (Dropout)          (None, 4096)              0         \n",
            "_________________________________________________________________\n",
            "dense_2 (Dense)              (None, 1)                 4097      \n",
            "=================================================================\n",
            "Total params: 56,324,865\n",
            "Trainable params: 56,322,113\n",
            "Non-trainable params: 2,752\n",
            "_________________________________________________________________\n"
          ],
          "name": "stdout"
        }
      ]
    },
    {
      "cell_type": "code",
      "metadata": {
        "id": "oTvu4IV0i7Fj"
      },
      "source": [
        "from keras.callbacks import EarlyStopping, ModelCheckpoint\n",
        "es = EarlyStopping(monitor='val_loss',\n",
        "                   patience=10,\n",
        "                   mode='auto',\n",
        "                   restore_best_weights=True)\n",
        "checkpoint = ModelCheckpoint('best_weight_AlexNet.h5',\n",
        "                             monitor='val_accuracy',\n",
        "                             verbose=1,\n",
        "                             save_best_only=True,\n",
        "                             mode='auto',)"
      ],
      "execution_count": 20,
      "outputs": []
    },
    {
      "cell_type": "code",
      "metadata": {
        "id": "6gVx0PzEF5p2",
        "colab": {
          "base_uri": "https://localhost:8080/"
        },
        "outputId": "5843545e-cdad-46e1-b1bb-624dfec8ae43"
      },
      "source": [
        "from keras.optimizers import Adam, SGD, RMSprop\n",
        "\n",
        "# train the model using the Adam optimizer\n",
        "print(\"[INFO] training network...\")\n",
        "opt = Adam(lr=1e-3, decay=1e-6)\n",
        "model.compile(loss=\"binary_crossentropy\", optimizer=opt, metrics=[\"accuracy\"])\n",
        "H = model.fit(trainX, trainY, validation_data=(testX, testY), epochs=50, batch_size=32, callbacks=[es, checkpoint])"
      ],
      "execution_count": 21,
      "outputs": [
        {
          "output_type": "stream",
          "text": [
            "[INFO] training network...\n",
            "Epoch 1/50\n",
            "1/1 [==============================] - 1s 1s/step - loss: 7.9323 - accuracy: 0.5455 - val_loss: 756.4708 - val_accuracy: 0.3750\n",
            "\n",
            "Epoch 00001: val_accuracy improved from -inf to 0.37500, saving model to best_weight_AlexNet.h5\n",
            "Epoch 2/50\n",
            "1/1 [==============================] - 0s 92ms/step - loss: 38.8135 - accuracy: 0.5455 - val_loss: 588.5638 - val_accuracy: 0.3750\n",
            "\n",
            "Epoch 00002: val_accuracy did not improve from 0.37500\n",
            "Epoch 3/50\n",
            "1/1 [==============================] - 0s 87ms/step - loss: 6.2695 - accuracy: 0.5455 - val_loss: 262.4817 - val_accuracy: 0.3750\n",
            "\n",
            "Epoch 00003: val_accuracy did not improve from 0.37500\n",
            "Epoch 4/50\n",
            "1/1 [==============================] - 0s 88ms/step - loss: 0.6556 - accuracy: 0.5455 - val_loss: 161.4412 - val_accuracy: 0.3750\n",
            "\n",
            "Epoch 00004: val_accuracy did not improve from 0.37500\n",
            "Epoch 5/50\n",
            "1/1 [==============================] - 0s 82ms/step - loss: 1.7779 - accuracy: 0.5455 - val_loss: 182.8876 - val_accuracy: 0.3750\n",
            "\n",
            "Epoch 00005: val_accuracy did not improve from 0.37500\n"
          ],
          "name": "stdout"
        }
      ]
    },
    {
      "cell_type": "code",
      "metadata": {
        "id": "sny_9-wU8PGB"
      },
      "source": [
        "from keras.models import Sequential\n",
        "from keras.layers.core import Flatten\n",
        "from keras.layers.core import Dense\n",
        "\n",
        "model = Sequential(\n",
        "    [\n",
        "        Flatten(input_shape=(64*64*3,)),\n",
        "        Dense(100, activation=\"relu\", name=\"layer1\"),\n",
        "        Dense(16, activation=\"relu\", name=\"layer2\"),\n",
        "        Dense(16, activation=\"relu\", name=\"layer3\"),\n",
        "        Dense(3, activation = \"softmax\", name=\"layer4\"),\n",
        "    ]\n",
        ")"
      ],
      "execution_count": null,
      "outputs": []
    },
    {
      "cell_type": "code",
      "metadata": {
        "id": "L0TdWxuFPkT3"
      },
      "source": [
        "model.summary()"
      ],
      "execution_count": null,
      "outputs": []
    },
    {
      "cell_type": "code",
      "metadata": {
        "scrolled": true,
        "id": "ggcSdj_aVGCB",
        "colab": {
          "base_uri": "https://localhost:8080/"
        },
        "outputId": "2e8e0092-db9d-479f-ccc2-45d89d428107"
      },
      "source": [
        "# train the model using the Adam optimizer\n",
        "print(\"[INFO] training network...\")\n",
        "opt = Adam(lr=1e-3, decay=1e-6)\n",
        "model.compile(loss=\"categorical_crossentropy\", optimizer=opt,\n",
        "\tmetrics=[\"accuracy\"])\n",
        "H = model.fit(trainX, trainY, validation_data=(testX, testY), epochs=50, batch_size=32, callbacks=[es, checkpoint])"
      ],
      "execution_count": null,
      "outputs": [
        {
          "output_type": "stream",
          "text": [
            "[INFO] training network...\n",
            "Epoch 1/50\n",
            " 2/23 [=>............................] - ETA: 1s - loss: 0.0370 - accuracy: 0.9844WARNING:tensorflow:Callbacks method `on_train_batch_end` is slow compared to the batch time (batch time: 0.0482s vs `on_train_batch_end` time: 0.1310s). Check your callbacks.\n",
            "22/23 [===========================>..] - ETA: 0s - loss: 0.1464 - accuracy: 0.9659\n",
            "Epoch 00001: val_accuracy improved from -inf to 0.64557, saving model to best_weight_scene_mobileNet.h5\n",
            "23/23 [==============================] - 6s 242ms/step - loss: 0.1453 - accuracy: 0.9662 - val_loss: 4.5741 - val_accuracy: 0.6456\n",
            "Epoch 2/50\n",
            "23/23 [==============================] - ETA: 0s - loss: 0.0417 - accuracy: 0.9930\n",
            "Epoch 00002: val_accuracy did not improve from 0.64557\n",
            "23/23 [==============================] - 4s 185ms/step - loss: 0.0417 - accuracy: 0.9930 - val_loss: 5.1989 - val_accuracy: 0.6414\n",
            "Epoch 3/50\n",
            "22/23 [===========================>..] - ETA: 0s - loss: 0.1280 - accuracy: 0.9730\n",
            "Epoch 00003: val_accuracy improved from 0.64557 to 0.99156, saving model to best_weight_scene_mobileNet.h5\n",
            "23/23 [==============================] - 5s 207ms/step - loss: 0.1400 - accuracy: 0.9705 - val_loss: 0.1948 - val_accuracy: 0.9916\n",
            "Epoch 4/50\n",
            "23/23 [==============================] - ETA: 0s - loss: 0.2232 - accuracy: 0.9480\n",
            "Epoch 00004: val_accuracy did not improve from 0.99156\n",
            "23/23 [==============================] - 4s 185ms/step - loss: 0.2232 - accuracy: 0.9480 - val_loss: 0.3538 - val_accuracy: 0.9831\n",
            "Epoch 5/50\n",
            "22/23 [===========================>..] - ETA: 0s - loss: 0.0855 - accuracy: 0.9744\n",
            "Epoch 00005: val_accuracy did not improve from 0.99156\n",
            "23/23 [==============================] - 4s 184ms/step - loss: 0.0919 - accuracy: 0.9733 - val_loss: 1.3380 - val_accuracy: 0.9114\n",
            "Epoch 6/50\n",
            "23/23 [==============================] - ETA: 0s - loss: 0.0590 - accuracy: 0.9733\n",
            "Epoch 00006: val_accuracy did not improve from 0.99156\n",
            "23/23 [==============================] - 4s 187ms/step - loss: 0.0590 - accuracy: 0.9733 - val_loss: 1.9956 - val_accuracy: 0.8692\n",
            "Epoch 7/50\n",
            "22/23 [===========================>..] - ETA: 0s - loss: 0.0575 - accuracy: 0.9787\n",
            "Epoch 00007: val_accuracy did not improve from 0.99156\n",
            "23/23 [==============================] - 4s 185ms/step - loss: 0.0570 - accuracy: 0.9789 - val_loss: 10.5112 - val_accuracy: 0.6118\n",
            "Epoch 8/50\n",
            "23/23 [==============================] - ETA: 0s - loss: 0.0344 - accuracy: 0.9930\n",
            "Epoch 00008: val_accuracy did not improve from 0.99156\n",
            "23/23 [==============================] - 4s 189ms/step - loss: 0.0344 - accuracy: 0.9930 - val_loss: 0.9717 - val_accuracy: 0.9283\n"
          ],
          "name": "stdout"
        }
      ]
    },
    {
      "cell_type": "code",
      "metadata": {
        "id": "98_oXi-lcgux",
        "colab": {
          "base_uri": "https://localhost:8080/",
          "height": 590
        },
        "outputId": "68724964-82dd-45ee-9224-1d7b45c19292"
      },
      "source": [
        "import matplotlib.pyplot as plt\n",
        "\n",
        "print(H.history.keys())\n",
        "# summarize history for accuracy\n",
        "plt.plot(H.history['accuracy'])\n",
        "plt.plot(H.history['val_accuracy'])\n",
        "plt.title('model accuracy')\n",
        "plt.ylabel('accuracy')\n",
        "plt.xlabel('epoch')\n",
        "plt.legend(['train', 'test'], loc='upper left')\n",
        "plt.show()\n",
        "# summarize history for loss\n",
        "plt.plot(H.history['loss'])\n",
        "plt.plot(H.history['val_loss'])\n",
        "plt.title('model loss')\n",
        "plt.ylabel('loss')\n",
        "plt.xlabel('epoch')\n",
        "plt.legend(['train', 'test'], loc='upper left')\n",
        "plt.show()"
      ],
      "execution_count": null,
      "outputs": [
        {
          "output_type": "stream",
          "text": [
            "dict_keys(['loss', 'accuracy', 'val_loss', 'val_accuracy'])\n"
          ],
          "name": "stdout"
        },
        {
          "output_type": "display_data",
          "data": {
            "image/png": "[encoded data removed]",
            "text/plain": [
              "<Figure size 432x288 with 1 Axes>"
            ]
          },
          "metadata": {
            "tags": [],
            "needs_background": "light"
          }
        },
        {
          "output_type": "display_data",
          "data": {
            "image/png": "[encoded data removed]",
            "text/plain": [
              "<Figure size 432x288 with 1 Axes>"
            ]
          },
          "metadata": {
            "tags": [],
            "needs_background": "light"
          }
        }
      ]
    },
    {
      "cell_type": "code",
      "metadata": {
        "id": "lPAZkmBJVGCD",
        "colab": {
          "base_uri": "https://localhost:8080/"
        },
        "outputId": "3825115a-1834-4d13-95f1-b643f458f88f"
      },
      "source": [
        "# evaluate the network\n",
        "print(\"[INFO] evaluating network...\")\n",
        "predictions = model.predict(testX, batch_size=32)\n",
        "print(classification_report(testY.argmax(axis=1),\n",
        "\tpredictions.argmax(axis=1), target_names=lb.classes_))"
      ],
      "execution_count": null,
      "outputs": [
        {
          "output_type": "stream",
          "text": [
            "[INFO] evaluating network...\n",
            "              precision    recall  f1-score   support\n",
            "\n",
            "       coast       1.00      0.99      0.99        85\n",
            "      forest       0.99      0.99      0.99        89\n",
            "     highway       0.98      1.00      0.99        63\n",
            "\n",
            "    accuracy                           0.99       237\n",
            "   macro avg       0.99      0.99      0.99       237\n",
            "weighted avg       0.99      0.99      0.99       237\n",
            "\n"
          ],
          "name": "stdout"
        }
      ]
    },
    {
      "cell_type": "code",
      "metadata": {
        "id": "4uBcj8x8iwTw",
        "colab": {
          "base_uri": "https://localhost:8080/"
        },
        "outputId": "8b4950a0-1d93-4480-dacb-18a24d5f9c84"
      },
      "source": [
        "model.save('nnmodel_scene')"
      ],
      "execution_count": null,
      "outputs": [
        {
          "output_type": "stream",
          "text": [
            "WARNING:tensorflow:From /usr/local/lib/python3.6/dist-packages/tensorflow/python/training/tracking/tracking.py:111: Model.state_updates (from tensorflow.python.keras.engine.training) is deprecated and will be removed in a future version.\n",
            "Instructions for updating:\n",
            "This property should not be used in TensorFlow 2.0, as updates are applied automatically.\n",
            "WARNING:tensorflow:From /usr/local/lib/python3.6/dist-packages/tensorflow/python/training/tracking/tracking.py:111: Layer.updates (from tensorflow.python.keras.engine.base_layer) is deprecated and will be removed in a future version.\n",
            "Instructions for updating:\n",
            "This property should not be used in TensorFlow 2.0, as updates are applied automatically.\n",
            "INFO:tensorflow:Assets written to: nnmodel_scene/assets\n"
          ],
          "name": "stdout"
        }
      ]
    },
    {
      "cell_type": "code",
      "metadata": {
        "id": "AOwJT2jLVGCN"
      },
      "source": [
        "import cv2\n",
        "import matplotlib.pyplot as plt\n",
        "image1='/content/drive/MyDrive/Dataset/normalized test covidset/Covid/1.tif'"
      ],
      "execution_count": null,
      "outputs": []
    },
    {
      "cell_type": "code",
      "metadata": {
        "id": "PkM68K4GVGCP",
        "colab": {
          "base_uri": "https://localhost:8080/",
          "height": 606
        },
        "outputId": "768f42fb-41ad-4eef-f178-a984d5ea7172"
      },
      "source": [
        "img_array = cv2.imread(image1)\n",
        "plt.imshow(img_array)\n",
        "plt.show()\n",
        "# print(type(img_array))"
      ],
      "execution_count": null,
      "outputs": [
        {
          "output_type": "error",
          "ename": "TypeError",
          "evalue": "ignored",
          "traceback": [
            "\u001b[0;31m---------------------------------------------------------------------------\u001b[0m",
            "\u001b[0;31mTypeError\u001b[0m                                 Traceback (most recent call last)",
            "\u001b[0;32m<ipython-input-76-6f36096759bd>\u001b[0m in \u001b[0;36m<module>\u001b[0;34m()\u001b[0m\n\u001b[1;32m      1\u001b[0m \u001b[0mimg_array\u001b[0m \u001b[0;34m=\u001b[0m \u001b[0mcv2\u001b[0m\u001b[0;34m.\u001b[0m\u001b[0mimread\u001b[0m\u001b[0;34m(\u001b[0m\u001b[0mimage1\u001b[0m\u001b[0;34m)\u001b[0m\u001b[0;34m\u001b[0m\u001b[0;34m\u001b[0m\u001b[0m\n\u001b[0;32m----> 2\u001b[0;31m \u001b[0mplt\u001b[0m\u001b[0;34m.\u001b[0m\u001b[0mimshow\u001b[0m\u001b[0;34m(\u001b[0m\u001b[0mimg_array\u001b[0m\u001b[0;34m)\u001b[0m\u001b[0;34m\u001b[0m\u001b[0;34m\u001b[0m\u001b[0m\n\u001b[0m\u001b[1;32m      3\u001b[0m \u001b[0mplt\u001b[0m\u001b[0;34m.\u001b[0m\u001b[0mshow\u001b[0m\u001b[0;34m(\u001b[0m\u001b[0;34m)\u001b[0m\u001b[0;34m\u001b[0m\u001b[0;34m\u001b[0m\u001b[0m\n\u001b[1;32m      4\u001b[0m \u001b[0;31m# print(type(img_array))\u001b[0m\u001b[0;34m\u001b[0m\u001b[0;34m\u001b[0m\u001b[0;34m\u001b[0m\u001b[0m\n",
            "\u001b[0;32m/usr/local/lib/python3.7/dist-packages/matplotlib/pyplot.py\u001b[0m in \u001b[0;36mimshow\u001b[0;34m(X, cmap, norm, aspect, interpolation, alpha, vmin, vmax, origin, extent, shape, filternorm, filterrad, imlim, resample, url, data, **kwargs)\u001b[0m\n\u001b[1;32m   2649\u001b[0m         \u001b[0mfilternorm\u001b[0m\u001b[0;34m=\u001b[0m\u001b[0mfilternorm\u001b[0m\u001b[0;34m,\u001b[0m \u001b[0mfilterrad\u001b[0m\u001b[0;34m=\u001b[0m\u001b[0mfilterrad\u001b[0m\u001b[0;34m,\u001b[0m \u001b[0mimlim\u001b[0m\u001b[0;34m=\u001b[0m\u001b[0mimlim\u001b[0m\u001b[0;34m,\u001b[0m\u001b[0;34m\u001b[0m\u001b[0;34m\u001b[0m\u001b[0m\n\u001b[1;32m   2650\u001b[0m         resample=resample, url=url, **({\"data\": data} if data is not\n\u001b[0;32m-> 2651\u001b[0;31m         None else {}), **kwargs)\n\u001b[0m\u001b[1;32m   2652\u001b[0m     \u001b[0msci\u001b[0m\u001b[0;34m(\u001b[0m\u001b[0m__ret\u001b[0m\u001b[0;34m)\u001b[0m\u001b[0;34m\u001b[0m\u001b[0;34m\u001b[0m\u001b[0m\n\u001b[1;32m   2653\u001b[0m     \u001b[0;32mreturn\u001b[0m \u001b[0m__ret\u001b[0m\u001b[0;34m\u001b[0m\u001b[0;34m\u001b[0m\u001b[0m\n",
            "\u001b[0;32m/usr/local/lib/python3.7/dist-packages/matplotlib/__init__.py\u001b[0m in \u001b[0;36minner\u001b[0;34m(ax, data, *args, **kwargs)\u001b[0m\n\u001b[1;32m   1563\u001b[0m     \u001b[0;32mdef\u001b[0m \u001b[0minner\u001b[0m\u001b[0;34m(\u001b[0m\u001b[0max\u001b[0m\u001b[0;34m,\u001b[0m \u001b[0;34m*\u001b[0m\u001b[0margs\u001b[0m\u001b[0;34m,\u001b[0m \u001b[0mdata\u001b[0m\u001b[0;34m=\u001b[0m\u001b[0;32mNone\u001b[0m\u001b[0;34m,\u001b[0m \u001b[0;34m**\u001b[0m\u001b[0mkwargs\u001b[0m\u001b[0;34m)\u001b[0m\u001b[0;34m:\u001b[0m\u001b[0;34m\u001b[0m\u001b[0;34m\u001b[0m\u001b[0m\n\u001b[1;32m   1564\u001b[0m         \u001b[0;32mif\u001b[0m \u001b[0mdata\u001b[0m \u001b[0;32mis\u001b[0m \u001b[0;32mNone\u001b[0m\u001b[0;34m:\u001b[0m\u001b[0;34m\u001b[0m\u001b[0;34m\u001b[0m\u001b[0m\n\u001b[0;32m-> 1565\u001b[0;31m             \u001b[0;32mreturn\u001b[0m \u001b[0mfunc\u001b[0m\u001b[0;34m(\u001b[0m\u001b[0max\u001b[0m\u001b[0;34m,\u001b[0m \u001b[0;34m*\u001b[0m\u001b[0mmap\u001b[0m\u001b[0;34m(\u001b[0m\u001b[0msanitize_sequence\u001b[0m\u001b[0;34m,\u001b[0m \u001b[0margs\u001b[0m\u001b[0;34m)\u001b[0m\u001b[0;34m,\u001b[0m \u001b[0;34m**\u001b[0m\u001b[0mkwargs\u001b[0m\u001b[0;34m)\u001b[0m\u001b[0;34m\u001b[0m\u001b[0;34m\u001b[0m\u001b[0m\n\u001b[0m\u001b[1;32m   1566\u001b[0m \u001b[0;34m\u001b[0m\u001b[0m\n\u001b[1;32m   1567\u001b[0m         \u001b[0mbound\u001b[0m \u001b[0;34m=\u001b[0m \u001b[0mnew_sig\u001b[0m\u001b[0;34m.\u001b[0m\u001b[0mbind\u001b[0m\u001b[0;34m(\u001b[0m\u001b[0max\u001b[0m\u001b[0;34m,\u001b[0m \u001b[0;34m*\u001b[0m\u001b[0margs\u001b[0m\u001b[0;34m,\u001b[0m \u001b[0;34m**\u001b[0m\u001b[0mkwargs\u001b[0m\u001b[0;34m)\u001b[0m\u001b[0;34m\u001b[0m\u001b[0;34m\u001b[0m\u001b[0m\n",
            "\u001b[0;32m/usr/local/lib/python3.7/dist-packages/matplotlib/cbook/deprecation.py\u001b[0m in \u001b[0;36mwrapper\u001b[0;34m(*args, **kwargs)\u001b[0m\n\u001b[1;32m    356\u001b[0m                 \u001b[0;34mf\"%(removal)s.  If any parameter follows {name!r}, they \"\u001b[0m\u001b[0;34m\u001b[0m\u001b[0;34m\u001b[0m\u001b[0m\n\u001b[1;32m    357\u001b[0m                 f\"should be pass as keyword, not positionally.\")\n\u001b[0;32m--> 358\u001b[0;31m         \u001b[0;32mreturn\u001b[0m \u001b[0mfunc\u001b[0m\u001b[0;34m(\u001b[0m\u001b[0;34m*\u001b[0m\u001b[0margs\u001b[0m\u001b[0;34m,\u001b[0m \u001b[0;34m**\u001b[0m\u001b[0mkwargs\u001b[0m\u001b[0;34m)\u001b[0m\u001b[0;34m\u001b[0m\u001b[0;34m\u001b[0m\u001b[0m\n\u001b[0m\u001b[1;32m    359\u001b[0m \u001b[0;34m\u001b[0m\u001b[0m\n\u001b[1;32m    360\u001b[0m     \u001b[0;32mreturn\u001b[0m \u001b[0mwrapper\u001b[0m\u001b[0;34m\u001b[0m\u001b[0;34m\u001b[0m\u001b[0m\n",
            "\u001b[0;32m/usr/local/lib/python3.7/dist-packages/matplotlib/cbook/deprecation.py\u001b[0m in \u001b[0;36mwrapper\u001b[0;34m(*args, **kwargs)\u001b[0m\n\u001b[1;32m    356\u001b[0m                 \u001b[0;34mf\"%(removal)s.  If any parameter follows {name!r}, they \"\u001b[0m\u001b[0;34m\u001b[0m\u001b[0;34m\u001b[0m\u001b[0m\n\u001b[1;32m    357\u001b[0m                 f\"should be pass as keyword, not positionally.\")\n\u001b[0;32m--> 358\u001b[0;31m         \u001b[0;32mreturn\u001b[0m \u001b[0mfunc\u001b[0m\u001b[0;34m(\u001b[0m\u001b[0;34m*\u001b[0m\u001b[0margs\u001b[0m\u001b[0;34m,\u001b[0m \u001b[0;34m**\u001b[0m\u001b[0mkwargs\u001b[0m\u001b[0;34m)\u001b[0m\u001b[0;34m\u001b[0m\u001b[0;34m\u001b[0m\u001b[0m\n\u001b[0m\u001b[1;32m    359\u001b[0m \u001b[0;34m\u001b[0m\u001b[0m\n\u001b[1;32m    360\u001b[0m     \u001b[0;32mreturn\u001b[0m \u001b[0mwrapper\u001b[0m\u001b[0;34m\u001b[0m\u001b[0;34m\u001b[0m\u001b[0m\n",
            "\u001b[0;32m/usr/local/lib/python3.7/dist-packages/matplotlib/axes/_axes.py\u001b[0m in \u001b[0;36mimshow\u001b[0;34m(self, X, cmap, norm, aspect, interpolation, alpha, vmin, vmax, origin, extent, shape, filternorm, filterrad, imlim, resample, url, **kwargs)\u001b[0m\n\u001b[1;32m   5624\u001b[0m                               resample=resample, **kwargs)\n\u001b[1;32m   5625\u001b[0m \u001b[0;34m\u001b[0m\u001b[0m\n\u001b[0;32m-> 5626\u001b[0;31m         \u001b[0mim\u001b[0m\u001b[0;34m.\u001b[0m\u001b[0mset_data\u001b[0m\u001b[0;34m(\u001b[0m\u001b[0mX\u001b[0m\u001b[0;34m)\u001b[0m\u001b[0;34m\u001b[0m\u001b[0;34m\u001b[0m\u001b[0m\n\u001b[0m\u001b[1;32m   5627\u001b[0m         \u001b[0mim\u001b[0m\u001b[0;34m.\u001b[0m\u001b[0mset_alpha\u001b[0m\u001b[0;34m(\u001b[0m\u001b[0malpha\u001b[0m\u001b[0;34m)\u001b[0m\u001b[0;34m\u001b[0m\u001b[0;34m\u001b[0m\u001b[0m\n\u001b[1;32m   5628\u001b[0m         \u001b[0;32mif\u001b[0m \u001b[0mim\u001b[0m\u001b[0;34m.\u001b[0m\u001b[0mget_clip_path\u001b[0m\u001b[0;34m(\u001b[0m\u001b[0;34m)\u001b[0m \u001b[0;32mis\u001b[0m \u001b[0;32mNone\u001b[0m\u001b[0;34m:\u001b[0m\u001b[0;34m\u001b[0m\u001b[0;34m\u001b[0m\u001b[0m\n",
            "\u001b[0;32m/usr/local/lib/python3.7/dist-packages/matplotlib/image.py\u001b[0m in \u001b[0;36mset_data\u001b[0;34m(self, A)\u001b[0m\n\u001b[1;32m    692\u001b[0m                 not np.can_cast(self._A.dtype, float, \"same_kind\")):\n\u001b[1;32m    693\u001b[0m             raise TypeError(\"Image data of dtype {} cannot be converted to \"\n\u001b[0;32m--> 694\u001b[0;31m                             \"float\".format(self._A.dtype))\n\u001b[0m\u001b[1;32m    695\u001b[0m \u001b[0;34m\u001b[0m\u001b[0m\n\u001b[1;32m    696\u001b[0m         if not (self._A.ndim == 2\n",
            "\u001b[0;31mTypeError\u001b[0m: Image data of dtype object cannot be converted to float"
          ]
        },
        {
          "output_type": "display_data",
          "data": {
            "image/png": "[encoded data removed]",
            "text/plain": [
              "<Figure size 432x288 with 1 Axes>"
            ]
          },
          "metadata": {
            "tags": [],
            "needs_background": "light"
          }
        }
      ]
    },
    {
      "cell_type": "code",
      "metadata": {
        "id": "1ZkNY8LWVGCR",
        "colab": {
          "base_uri": "https://localhost:8080/"
        },
        "outputId": "d3c6911e-6bb2-4de5-b08f-4ef95423f675"
      },
      "source": [
        "image_testing = Image.open('forest_test.jpg')\n",
        "image_testing = np.array(image_testing.resize((64, 64))) / 255.0\n",
        "image_testing.shape"
      ],
      "execution_count": null,
      "outputs": [
        {
          "output_type": "execute_result",
          "data": {
            "text/plain": [
              "(64, 64, 3)"
            ]
          },
          "metadata": {
            "tags": []
          },
          "execution_count": 40
        }
      ]
    },
    {
      "cell_type": "code",
      "metadata": {
        "id": "qL66nfOcVGCT",
        "colab": {
          "base_uri": "https://localhost:8080/"
        },
        "outputId": "f07b344b-17b6-4e5a-9663-0069bd843ed0"
      },
      "source": [
        "image_testing = np.expand_dims(image_testing, axis=0)\n",
        "print(image_testing.shape)"
      ],
      "execution_count": null,
      "outputs": [
        {
          "output_type": "stream",
          "text": [
            "(1, 64, 64, 3)\n"
          ],
          "name": "stdout"
        }
      ]
    },
    {
      "cell_type": "code",
      "metadata": {
        "id": "vTy9yP1AVGCV",
        "colab": {
          "base_uri": "https://localhost:8080/"
        },
        "outputId": "dca9e1a1-849b-48a1-8a80-39d9bf7657d9"
      },
      "source": [
        "output = model.predict(image_testing, 1)\n",
        "print(output)\n",
        "print(lb.classes_[output.argmax(axis=1)])"
      ],
      "execution_count": null,
      "outputs": [
        {
          "output_type": "stream",
          "text": [
            "WARNING:tensorflow:Model was constructed with shape (None, 12288) for input Tensor(\"flatten_4_input:0\", shape=(None, 12288), dtype=float32), but it was called on an input with incompatible shape (1, 64, 64, 3).\n",
            "[[0.02508735 0.9703354  0.00457713]]\n",
            "['forest']\n"
          ],
          "name": "stdout"
        }
      ]
    },
    {
      "cell_type": "code",
      "metadata": {
        "id": "cu5SSxXyiOs3"
      },
      "source": [
        ""
      ],
      "execution_count": null,
      "outputs": []
    }
  ]
}