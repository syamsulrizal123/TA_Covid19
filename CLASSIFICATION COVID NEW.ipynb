{
 "cells": [
  {
   "cell_type": "code",
   "execution_count": 1,
   "id": "2a8c7249",
   "metadata": {},
   "outputs": [],
   "source": [
    "import numpy as np\n",
    "import os\n",
    "from imutils import paths\n",
    "from PIL import Image\n",
    "import matplotlib.pyplot as plt\n",
    "import keras\n",
    "from keras.models import Sequential\n",
    "from keras.layers.convolutional import Conv2D\n",
    "from keras.layers.convolutional import MaxPooling2D\n",
    "from keras.layers.core import Activation\n",
    "from keras.layers.core import Flatten\n",
    "from keras.layers.core import Dense\n",
    "from keras.layers import GlobalAveragePooling2D, BatchNormalization, Dropout\n",
    "from keras.models import Model\n",
    "import tensorflow as tf\n",
    "import cv2\n",
    "import io\n",
    "from skimage.filters import gaussian\n",
    "from skimage import exposure\n",
    "import matplotlib.image as mpimg\n",
    "import tensorflow\n",
    "from tensorflow.keras import Model, Input\n",
    "from tensorflow.keras.layers import Conv2D, MaxPooling2D, Dense, ReLU, BatchNormalization\n",
    "from tensorflow.keras.layers import Add, GlobalAveragePooling2D\n",
    "from skimage import io\n",
    "from sklearn.preprocessing import LabelEncoder\n",
    "from sklearn.model_selection import train_test_split\n",
    "from keras.callbacks import EarlyStopping, ModelCheckpoint\n",
    "from keras.optimizers import Adam, SGD, RMSprop, Adamax, Adadelta\n",
    "from sklearn.metrics import confusion_matrix, ConfusionMatrixDisplay, classification_report\n",
    "from keras import backend as k\n",
    "from keras.preprocessing.image import ImageDataGenerator\n",
    "\n",
    "import keras\n",
    "import numpy as np\n",
    "import cv2\n",
    "import os\n",
    "import random\n",
    "import shutil\n",
    "import pandas as pd\n",
    "import csv\n",
    "import zipfile\n",
    "from keras import optimizers\n",
    "from keras.models import Sequential,Model\n",
    "from keras.layers import Dropout, Flatten, Dense,Input, Conv2D, MaxPooling2D\n",
    "from keras.callbacks import ModelCheckpoint\n",
    "from keras.applications.imagenet_utils import preprocess_input\n",
    "from keras import backend as K\n",
    "from keras.preprocessing.image import ImageDataGenerator\n",
    "from keras.initializers import RandomNormal\n",
    "import keras.backend as k\n",
    "from sklearn.utils import shuffle\n",
    "import io\n",
    "from PIL import Image as pil_image\n",
    "# from keras_retinanet import layers\n",
    "import keras.backend as k\n",
    "# import keras_retinanet"
   ]
  },
  {
   "cell_type": "code",
   "execution_count": null,
   "id": "4588644f",
   "metadata": {},
   "outputs": [],
   "source": [
    "cd E:\\TA\\Train&Validation"
   ]
  },
  {
   "cell_type": "code",
   "execution_count": null,
   "id": "ff5c2323",
   "metadata": {},
   "outputs": [],
   "source": [
    "#normalisasi\n",
    "size=(224,224)\n",
    "\n",
    "for infile in os.listdir():\n",
    "    outfile=os.path.splitext(infile)[0]\n",
    "    try:\n",
    "        with Image.open(infile) as im:\n",
    "            \n",
    "\n",
    "            array=np.array(im)\n",
    "            max_val=np.amax(array)\n",
    "            normalized=(array/max_val)\n",
    "            im = pil_image.fromarray(normalized)\n",
    "            im.convert('RGB')\n",
    "            im.thumbnail(size)\n",
    "            im.save(\"E:\\\\TA\\\\Normalized\\\\\" + infile, \"TIFF\")\n",
    "    except OSError:\n",
    "        pass\n",
    "print(\"ok\")"
   ]
  },
  {
   "cell_type": "code",
   "execution_count": null,
   "id": "7e2913cc",
   "metadata": {},
   "outputs": [],
   "source": [
    "cd E:\\TA\\Normalized"
   ]
  },
  {
   "cell_type": "code",
   "execution_count": null,
   "id": "648a59bf",
   "metadata": {
    "scrolled": true
   },
   "outputs": [],
   "source": [
    "#gaussian filter\n",
    "size=(224,224)\n",
    "\n",
    "for infile in os.listdir():\n",
    "    outfile=os.path.splitext(infile)[0]\n",
    "    try:\n",
    "        with Image.open(infile) as im:\n",
    "            \n",
    "            array=np.array(im)\n",
    "            gausfilter = gaussian(array, sigma=1, mode='constant', cval=0.0)\n",
    "            im = pil_image.fromarray(gausfilter)\n",
    "            im.convert('RGB')\n",
    "            im.thumbnail(size)\n",
    "            im.save(\"E:\\\\TA\\\\Gaussian\\\\\" + infile, \"TIFF\")\n",
    "    except OSError:\n",
    "        pass\n",
    "print(\"ok\")"
   ]
  },
  {
   "cell_type": "code",
   "execution_count": null,
   "id": "ed8690ad",
   "metadata": {},
   "outputs": [],
   "source": [
    "#clahe\n",
    "size=(224,224)\n",
    "\n",
    "for infile in os.listdir():\n",
    "    outfile=os.path.splitext(infile)[0]\n",
    "    try:\n",
    "        with Image.open(infile) as im:\n",
    "            \n",
    "            array=np.array(im)/255\n",
    "            clahe = exposure.equalize_adapthist(array)\n",
    "            im = pil_image.fromarray(clahe)\n",
    "            im.convert('RGB')\n",
    "            im.thumbnail(size)\n",
    "            im.save(\"E:\\\\TA\\\\CLAHE\\\\\" + infile, \"TIFF\")\n",
    "    except OSError:\n",
    "        pass\n",
    "print(\"ok\")"
   ]
  },
  {
   "cell_type": "code",
   "execution_count": 2,
   "id": "9e5ba043",
   "metadata": {},
   "outputs": [
    {
     "name": "stdout",
     "output_type": "stream",
     "text": [
      "E:\\TA\n"
     ]
    }
   ],
   "source": [
    "cd E:\\TA"
   ]
  },
  {
   "cell_type": "code",
   "execution_count": 3,
   "id": "f3a84e6d",
   "metadata": {},
   "outputs": [
    {
     "name": "stdout",
     "output_type": "stream",
     "text": [
      " Volume in drive E is New Volume\n",
      " Volume Serial Number is 0A17-1E26\n",
      "\n",
      " Directory of E:\\TA\n",
      "\n",
      "07/22/2021  12:36 PM    <DIR>          .\n",
      "07/22/2021  12:36 PM    <DIR>          ..\n",
      "07/22/2021  01:52 PM       537,642,520 best_weight_AlexNet.h5\n",
      "07/21/2021  09:30 PM    <DIR>          CLAHE\n",
      "07/21/2021  07:52 PM    <DIR>          CSV\n",
      "07/21/2021  08:35 PM    <DIR>          Gaussian\n",
      "07/21/2021  08:22 PM    <DIR>          Normalized\n",
      "07/21/2021  07:51 PM    <DIR>          Train&Validation\n",
      "               1 File(s)    537,642,520 bytes\n",
      "               7 Dir(s)  284,689,043,456 bytes free\n"
     ]
    }
   ],
   "source": [
    "ls"
   ]
  },
  {
   "cell_type": "code",
   "execution_count": 4,
   "id": "8d015cdf",
   "metadata": {},
   "outputs": [],
   "source": [
    "fold_num=1 #Select Fold Number"
   ]
  },
  {
   "cell_type": "code",
   "execution_count": 5,
   "id": "00c45fa9",
   "metadata": {},
   "outputs": [],
   "source": [
    "#Here we set the data generators for applying data augmentation methods\n",
    "train_datagen = ImageDataGenerator()#horizontal_flip=True,vertical_flip=True,zoom_range=0.05,rotation_range=360,width_shift_range=0.05,height_shift_range=0.05,shear_range=0.05)\n",
    "test_datagen = ImageDataGenerator()\n",
    "train_df =pd.read_csv('E:\\\\TA\\\\CSV\\\\train{}.csv'.format(fold_num)) #raed train csv file\n",
    "validation_df = pd.read_csv('E:\\\\TA\\\\CSV\\\\validation{}.csv'.format(fold_num)) #raed validation csv file (Validation in the training process)\n",
    "train_df = shuffle(train_df) #Shuffle the train data\n",
    "test_df = pd.read_csv('E:\\\\TA\\\\CSV\\\\test{}.csv'.format(fold_num))#raed test csv file (For evaluating the final version of th"
   ]
  },
  {
   "cell_type": "code",
   "execution_count": 6,
   "id": "b53b4ccc",
   "metadata": {},
   "outputs": [
    {
     "data": {
      "text/html": [
       "<div>\n",
       "<style scoped>\n",
       "    .dataframe tbody tr th:only-of-type {\n",
       "        vertical-align: middle;\n",
       "    }\n",
       "\n",
       "    .dataframe tbody tr th {\n",
       "        vertical-align: top;\n",
       "    }\n",
       "\n",
       "    .dataframe thead th {\n",
       "        text-align: right;\n",
       "    }\n",
       "</style>\n",
       "<table border=\"1\" class=\"dataframe\">\n",
       "  <thead>\n",
       "    <tr style=\"text-align: right;\">\n",
       "      <th></th>\n",
       "      <th>filename</th>\n",
       "      <th>class</th>\n",
       "    </tr>\n",
       "  </thead>\n",
       "  <tbody>\n",
       "    <tr>\n",
       "      <th>2563</th>\n",
       "      <td>normal1_patient171_SR_2_IM00042.tif</td>\n",
       "      <td>normal</td>\n",
       "    </tr>\n",
       "    <tr>\n",
       "      <th>1893</th>\n",
       "      <td>cdnormal4_patient149_SR_2_IM00009.tif</td>\n",
       "      <td>normal</td>\n",
       "    </tr>\n",
       "    <tr>\n",
       "      <th>1327</th>\n",
       "      <td>137covid_patient1_SR_4_IM00117.tif</td>\n",
       "      <td>covid</td>\n",
       "    </tr>\n",
       "    <tr>\n",
       "      <th>1009</th>\n",
       "      <td>137covid_patient76_SR_3_IM00032.tif</td>\n",
       "      <td>covid</td>\n",
       "    </tr>\n",
       "    <tr>\n",
       "      <th>2366</th>\n",
       "      <td>cdunnormal_patient165_SR_2_IM00032.tif</td>\n",
       "      <td>normal</td>\n",
       "    </tr>\n",
       "    <tr>\n",
       "      <th>...</th>\n",
       "      <td>...</td>\n",
       "      <td>...</td>\n",
       "    </tr>\n",
       "    <tr>\n",
       "      <th>554</th>\n",
       "      <td>137covid_patient97_SR_2_IM00016.tif</td>\n",
       "      <td>covid</td>\n",
       "    </tr>\n",
       "    <tr>\n",
       "      <th>2149</th>\n",
       "      <td>cdunnormal_patient157_SR_2_IM00018.tif</td>\n",
       "      <td>normal</td>\n",
       "    </tr>\n",
       "    <tr>\n",
       "      <th>1351</th>\n",
       "      <td>137covid_patient29_SR_4_IM00008.tif</td>\n",
       "      <td>covid</td>\n",
       "    </tr>\n",
       "    <tr>\n",
       "      <th>3003</th>\n",
       "      <td>normal1_patient187_SR_2_IM00010.tif</td>\n",
       "      <td>normal</td>\n",
       "    </tr>\n",
       "    <tr>\n",
       "      <th>3439</th>\n",
       "      <td>normal4_patient186_SR_2_IM00009.tif</td>\n",
       "      <td>normal</td>\n",
       "    </tr>\n",
       "  </tbody>\n",
       "</table>\n",
       "<p>1900 rows × 2 columns</p>\n",
       "</div>"
      ],
      "text/plain": [
       "                                    filename   class\n",
       "2563     normal1_patient171_SR_2_IM00042.tif  normal\n",
       "1893   cdnormal4_patient149_SR_2_IM00009.tif  normal\n",
       "1327      137covid_patient1_SR_4_IM00117.tif   covid\n",
       "1009     137covid_patient76_SR_3_IM00032.tif   covid\n",
       "2366  cdunnormal_patient165_SR_2_IM00032.tif  normal\n",
       "...                                      ...     ...\n",
       "554      137covid_patient97_SR_2_IM00016.tif   covid\n",
       "2149  cdunnormal_patient157_SR_2_IM00018.tif  normal\n",
       "1351     137covid_patient29_SR_4_IM00008.tif   covid\n",
       "3003     normal1_patient187_SR_2_IM00010.tif  normal\n",
       "3439     normal4_patient186_SR_2_IM00009.tif  normal\n",
       "\n",
       "[1900 rows x 2 columns]"
      ]
     },
     "execution_count": 6,
     "metadata": {},
     "output_type": "execute_result"
    }
   ],
   "source": [
    "# generating one row \n",
    "train_df = train_df.sample(n =1900, random_state=1)\n",
    "    \n",
    "# display\n",
    "train_df"
   ]
  },
  {
   "cell_type": "code",
   "execution_count": 7,
   "id": "14f6a86e",
   "metadata": {},
   "outputs": [
    {
     "data": {
      "text/html": [
       "<div>\n",
       "<style scoped>\n",
       "    .dataframe tbody tr th:only-of-type {\n",
       "        vertical-align: middle;\n",
       "    }\n",
       "\n",
       "    .dataframe tbody tr th {\n",
       "        vertical-align: top;\n",
       "    }\n",
       "\n",
       "    .dataframe thead th {\n",
       "        text-align: right;\n",
       "    }\n",
       "</style>\n",
       "<table border=\"1\" class=\"dataframe\">\n",
       "  <thead>\n",
       "    <tr style=\"text-align: right;\">\n",
       "      <th></th>\n",
       "      <th>filename</th>\n",
       "    </tr>\n",
       "    <tr>\n",
       "      <th>class</th>\n",
       "      <th></th>\n",
       "    </tr>\n",
       "  </thead>\n",
       "  <tbody>\n",
       "    <tr>\n",
       "      <th>covid</th>\n",
       "      <td>913</td>\n",
       "    </tr>\n",
       "    <tr>\n",
       "      <th>normal</th>\n",
       "      <td>987</td>\n",
       "    </tr>\n",
       "  </tbody>\n",
       "</table>\n",
       "</div>"
      ],
      "text/plain": [
       "        filename\n",
       "class           \n",
       "covid        913\n",
       "normal       987"
      ]
     },
     "execution_count": 7,
     "metadata": {},
     "output_type": "execute_result"
    }
   ],
   "source": [
    "train_df.groupby('class').count()"
   ]
  },
  {
   "cell_type": "code",
   "execution_count": 8,
   "id": "b8665a5b",
   "metadata": {},
   "outputs": [
    {
     "data": {
      "text/html": [
       "<div>\n",
       "<style scoped>\n",
       "    .dataframe tbody tr th:only-of-type {\n",
       "        vertical-align: middle;\n",
       "    }\n",
       "\n",
       "    .dataframe tbody tr th {\n",
       "        vertical-align: top;\n",
       "    }\n",
       "\n",
       "    .dataframe thead th {\n",
       "        text-align: right;\n",
       "    }\n",
       "</style>\n",
       "<table border=\"1\" class=\"dataframe\">\n",
       "  <thead>\n",
       "    <tr style=\"text-align: right;\">\n",
       "      <th></th>\n",
       "      <th>filename</th>\n",
       "      <th>class</th>\n",
       "    </tr>\n",
       "  </thead>\n",
       "  <tbody>\n",
       "    <tr>\n",
       "      <th>191</th>\n",
       "      <td>137covid_patient105_SR_3_IM00020.tif</td>\n",
       "      <td>covid</td>\n",
       "    </tr>\n",
       "    <tr>\n",
       "      <th>832</th>\n",
       "      <td>normal2_patient314_SR_2_IM00033.tif</td>\n",
       "      <td>normal</td>\n",
       "    </tr>\n",
       "    <tr>\n",
       "      <th>111</th>\n",
       "      <td>137covid_patient120_SR_2_IM00022.tif</td>\n",
       "      <td>covid</td>\n",
       "    </tr>\n",
       "    <tr>\n",
       "      <th>262</th>\n",
       "      <td>137covid_patient120_SR_3_IM00025.tif</td>\n",
       "      <td>covid</td>\n",
       "    </tr>\n",
       "    <tr>\n",
       "      <th>670</th>\n",
       "      <td>normal5_patient226_SR_2_IM00024.tif</td>\n",
       "      <td>normal</td>\n",
       "    </tr>\n",
       "    <tr>\n",
       "      <th>...</th>\n",
       "      <td>...</td>\n",
       "      <td>...</td>\n",
       "    </tr>\n",
       "    <tr>\n",
       "      <th>865</th>\n",
       "      <td>normalcd1_patient412_SR_2_IM00032.tif</td>\n",
       "      <td>normal</td>\n",
       "    </tr>\n",
       "    <tr>\n",
       "      <th>304</th>\n",
       "      <td>137covid_patient18_SR_3_IM00013.tif</td>\n",
       "      <td>covid</td>\n",
       "    </tr>\n",
       "    <tr>\n",
       "      <th>200</th>\n",
       "      <td>137covid_patient10_SR_3_IM00016.tif</td>\n",
       "      <td>covid</td>\n",
       "    </tr>\n",
       "    <tr>\n",
       "      <th>394</th>\n",
       "      <td>137covid_patient118_SR_4_IM00010.tif</td>\n",
       "      <td>covid</td>\n",
       "    </tr>\n",
       "    <tr>\n",
       "      <th>869</th>\n",
       "      <td>normal3_patient352_SR_2_IM00017.tif</td>\n",
       "      <td>normal</td>\n",
       "    </tr>\n",
       "  </tbody>\n",
       "</table>\n",
       "<p>475 rows × 2 columns</p>\n",
       "</div>"
      ],
      "text/plain": [
       "                                  filename   class\n",
       "191   137covid_patient105_SR_3_IM00020.tif   covid\n",
       "832    normal2_patient314_SR_2_IM00033.tif  normal\n",
       "111   137covid_patient120_SR_2_IM00022.tif   covid\n",
       "262   137covid_patient120_SR_3_IM00025.tif   covid\n",
       "670    normal5_patient226_SR_2_IM00024.tif  normal\n",
       "..                                     ...     ...\n",
       "865  normalcd1_patient412_SR_2_IM00032.tif  normal\n",
       "304    137covid_patient18_SR_3_IM00013.tif   covid\n",
       "200    137covid_patient10_SR_3_IM00016.tif   covid\n",
       "394   137covid_patient118_SR_4_IM00010.tif   covid\n",
       "869    normal3_patient352_SR_2_IM00017.tif  normal\n",
       "\n",
       "[475 rows x 2 columns]"
      ]
     },
     "execution_count": 8,
     "metadata": {},
     "output_type": "execute_result"
    }
   ],
   "source": [
    "# generating one row\n",
    "validation_df = validation_df.sample(n = 475, random_state = 1)\n",
    "    \n",
    "# display\n",
    "validation_df"
   ]
  },
  {
   "cell_type": "code",
   "execution_count": 9,
   "id": "66eb7bef",
   "metadata": {},
   "outputs": [
    {
     "data": {
      "text/html": [
       "<div>\n",
       "<style scoped>\n",
       "    .dataframe tbody tr th:only-of-type {\n",
       "        vertical-align: middle;\n",
       "    }\n",
       "\n",
       "    .dataframe tbody tr th {\n",
       "        vertical-align: top;\n",
       "    }\n",
       "\n",
       "    .dataframe thead th {\n",
       "        text-align: right;\n",
       "    }\n",
       "</style>\n",
       "<table border=\"1\" class=\"dataframe\">\n",
       "  <thead>\n",
       "    <tr style=\"text-align: right;\">\n",
       "      <th></th>\n",
       "      <th>filename</th>\n",
       "    </tr>\n",
       "    <tr>\n",
       "      <th>class</th>\n",
       "      <th></th>\n",
       "    </tr>\n",
       "  </thead>\n",
       "  <tbody>\n",
       "    <tr>\n",
       "      <th>covid</th>\n",
       "      <td>244</td>\n",
       "    </tr>\n",
       "    <tr>\n",
       "      <th>normal</th>\n",
       "      <td>231</td>\n",
       "    </tr>\n",
       "  </tbody>\n",
       "</table>\n",
       "</div>"
      ],
      "text/plain": [
       "        filename\n",
       "class           \n",
       "covid        244\n",
       "normal       231"
      ]
     },
     "execution_count": 9,
     "metadata": {},
     "output_type": "execute_result"
    }
   ],
   "source": [
    "validation_df.groupby('class').count()"
   ]
  },
  {
   "cell_type": "code",
   "execution_count": 10,
   "id": "7bfc9929",
   "metadata": {},
   "outputs": [],
   "source": [
    "test_df = test_df.drop(test_df[test_df['class']=='normal'].sample(frac =.94).index)"
   ]
  },
  {
   "cell_type": "code",
   "execution_count": 11,
   "id": "2fb9f846",
   "metadata": {},
   "outputs": [
    {
     "data": {
      "text/html": [
       "<div>\n",
       "<style scoped>\n",
       "    .dataframe tbody tr th:only-of-type {\n",
       "        vertical-align: middle;\n",
       "    }\n",
       "\n",
       "    .dataframe tbody tr th {\n",
       "        vertical-align: top;\n",
       "    }\n",
       "\n",
       "    .dataframe thead th {\n",
       "        text-align: right;\n",
       "    }\n",
       "</style>\n",
       "<table border=\"1\" class=\"dataframe\">\n",
       "  <thead>\n",
       "    <tr style=\"text-align: right;\">\n",
       "      <th></th>\n",
       "      <th>filename</th>\n",
       "      <th>class</th>\n",
       "    </tr>\n",
       "  </thead>\n",
       "  <tbody>\n",
       "    <tr>\n",
       "      <th>363</th>\n",
       "      <td>137covid_patient115_SR_4_IM00004.tif</td>\n",
       "      <td>covid</td>\n",
       "    </tr>\n",
       "    <tr>\n",
       "      <th>41</th>\n",
       "      <td>137covid_patient10_SR_2_IM00024.tif</td>\n",
       "      <td>covid</td>\n",
       "    </tr>\n",
       "    <tr>\n",
       "      <th>6862</th>\n",
       "      <td>normal5_patient383_SR_2_IM00041.tif</td>\n",
       "      <td>normal</td>\n",
       "    </tr>\n",
       "    <tr>\n",
       "      <th>1984</th>\n",
       "      <td>normal1_patient248_SR_2_IM00018.tif</td>\n",
       "      <td>normal</td>\n",
       "    </tr>\n",
       "    <tr>\n",
       "      <th>35</th>\n",
       "      <td>137covid_patient10_SR_2_IM00015.tif</td>\n",
       "      <td>covid</td>\n",
       "    </tr>\n",
       "    <tr>\n",
       "      <th>...</th>\n",
       "      <td>...</td>\n",
       "      <td>...</td>\n",
       "    </tr>\n",
       "    <tr>\n",
       "      <th>5495</th>\n",
       "      <td>normal4_patient221_SR_2_IM00015.tif</td>\n",
       "      <td>normal</td>\n",
       "    </tr>\n",
       "    <tr>\n",
       "      <th>354</th>\n",
       "      <td>137covid_patient105_SR_4_IM00121.tif</td>\n",
       "      <td>covid</td>\n",
       "    </tr>\n",
       "    <tr>\n",
       "      <th>6650</th>\n",
       "      <td>normal5_patient213_SR_2_IM00020.tif</td>\n",
       "      <td>normal</td>\n",
       "    </tr>\n",
       "    <tr>\n",
       "      <th>241</th>\n",
       "      <td>137covid_patient118_SR_3_IM00014.tif</td>\n",
       "      <td>covid</td>\n",
       "    </tr>\n",
       "    <tr>\n",
       "      <th>135</th>\n",
       "      <td>137covid_patient15_SR_2_IM00010.tif</td>\n",
       "      <td>covid</td>\n",
       "    </tr>\n",
       "  </tbody>\n",
       "</table>\n",
       "<p>200 rows × 2 columns</p>\n",
       "</div>"
      ],
      "text/plain": [
       "                                  filename   class\n",
       "363   137covid_patient115_SR_4_IM00004.tif   covid\n",
       "41     137covid_patient10_SR_2_IM00024.tif   covid\n",
       "6862   normal5_patient383_SR_2_IM00041.tif  normal\n",
       "1984   normal1_patient248_SR_2_IM00018.tif  normal\n",
       "35     137covid_patient10_SR_2_IM00015.tif   covid\n",
       "...                                    ...     ...\n",
       "5495   normal4_patient221_SR_2_IM00015.tif  normal\n",
       "354   137covid_patient105_SR_4_IM00121.tif   covid\n",
       "6650   normal5_patient213_SR_2_IM00020.tif  normal\n",
       "241   137covid_patient118_SR_3_IM00014.tif   covid\n",
       "135    137covid_patient15_SR_2_IM00010.tif   covid\n",
       "\n",
       "[200 rows x 2 columns]"
      ]
     },
     "execution_count": 11,
     "metadata": {},
     "output_type": "execute_result"
    }
   ],
   "source": [
    "# generating one row\n",
    "test_df = test_df.sample(n =200, random_state=1)\n",
    "    \n",
    "# display\n",
    "test_df"
   ]
  },
  {
   "cell_type": "code",
   "execution_count": 12,
   "id": "fd4e0be0",
   "metadata": {},
   "outputs": [
    {
     "data": {
      "text/html": [
       "<div>\n",
       "<style scoped>\n",
       "    .dataframe tbody tr th:only-of-type {\n",
       "        vertical-align: middle;\n",
       "    }\n",
       "\n",
       "    .dataframe tbody tr th {\n",
       "        vertical-align: top;\n",
       "    }\n",
       "\n",
       "    .dataframe thead th {\n",
       "        text-align: right;\n",
       "    }\n",
       "</style>\n",
       "<table border=\"1\" class=\"dataframe\">\n",
       "  <thead>\n",
       "    <tr style=\"text-align: right;\">\n",
       "      <th></th>\n",
       "      <th>filename</th>\n",
       "    </tr>\n",
       "    <tr>\n",
       "      <th>class</th>\n",
       "      <th></th>\n",
       "    </tr>\n",
       "  </thead>\n",
       "  <tbody>\n",
       "    <tr>\n",
       "      <th>covid</th>\n",
       "      <td>93</td>\n",
       "    </tr>\n",
       "    <tr>\n",
       "      <th>normal</th>\n",
       "      <td>107</td>\n",
       "    </tr>\n",
       "  </tbody>\n",
       "</table>\n",
       "</div>"
      ],
      "text/plain": [
       "        filename\n",
       "class           \n",
       "covid         93\n",
       "normal       107"
      ]
     },
     "execution_count": 12,
     "metadata": {},
     "output_type": "execute_result"
    }
   ],
   "source": [
    "test_df.groupby('class').count()"
   ]
  },
  {
   "cell_type": "code",
   "execution_count": 13,
   "id": "f6daa680",
   "metadata": {},
   "outputs": [],
   "source": [
    "shape=(224,224,3) #shape of the dataset images (in TIFF format)"
   ]
  },
  {
   "cell_type": "code",
   "execution_count": 14,
   "id": "032d5a45",
   "metadata": {},
   "outputs": [
    {
     "name": "stdout",
     "output_type": "stream",
     "text": [
      "Found 1900 validated image filenames belonging to 2 classes.\n",
      "Found 475 validated image filenames belonging to 2 classes.\n",
      "Found 200 validated image filenames belonging to 2 classes.\n"
     ]
    }
   ],
   "source": [
    "#Create the generators\n",
    "train_generator = train_datagen.flow_from_dataframe(\n",
    "      dataframe=train_df,\n",
    "      directory='E:\\\\TA\\\\CLAHE\\\\',\n",
    "      x_col=\"filename\",\n",
    "      y_col=\"class\",\n",
    "      target_size=shape[:2],\n",
    "      batch_size=32,\n",
    "      class_mode='categorical',color_mode=\"rgb\",shuffle=True)\n",
    "validation_generator = test_datagen.flow_from_dataframe(\n",
    "        dataframe=validation_df,\n",
    "        directory='E:\\\\TA\\\\CLAHE\\\\',\n",
    "        x_col=\"filename\",\n",
    "        y_col=\"class\",\n",
    "        target_size=shape[:2],\n",
    "        batch_size=32,\n",
    "        class_mode='categorical',color_mode=\"rgb\",shuffle=True)\n",
    "test_generator = test_datagen.flow_from_dataframe(\n",
    "        dataframe=test_df,\n",
    "        directory='E:\\\\TA\\\\CLAHE\\\\',\n",
    "        x_col=\"filename\",\n",
    "        y_col=\"class\",\n",
    "        target_size=shape[:2],\n",
    "        batch_size=32,\n",
    "        class_mode='categorical',color_mode=\"rgb\",shuffle=True)"
   ]
  },
  {
   "cell_type": "code",
   "execution_count": 16,
   "id": "57e1a868",
   "metadata": {},
   "outputs": [],
   "source": [
    "data = []\n",
    "for num,img_name in enumerate(train_generator.filenames): #load image\n",
    "    # gt_ind=test_generator.classes[num] #get the loaded image class index\n",
    "    img=cv2.imread(os.path.join('E:\\\\TA\\\\CLAHE\\\\',img_name),-1)\n",
    "    img = cv2.cvtColor(img, cv2.COLOR_BGR2RGB)\n",
    "    img = np.array(img)\n",
    "    data.append(img)"
   ]
  },
  {
   "cell_type": "code",
   "execution_count": 17,
   "id": "c6c15073",
   "metadata": {},
   "outputs": [
    {
     "data": {
      "text/plain": [
       "<matplotlib.image.AxesImage at 0x2b01087bb08>"
      ]
     },
     "execution_count": 17,
     "metadata": {},
     "output_type": "execute_result"
    },
    {
     "data": {
      "image/png": "[encoded data removed]",
      "text/plain": [
       "<Figure size 432x288 with 1 Axes>"
      ]
     },
     "metadata": {
      "needs_background": "light"
     },
     "output_type": "display_data"
    }
   ],
   "source": [
    "plt.imshow(data[1])"
   ]
  },
  {
   "cell_type": "code",
   "execution_count": 18,
   "id": "fbefcb7d",
   "metadata": {},
   "outputs": [
    {
     "data": {
      "text/plain": [
       "(1900, 224, 224, 3)"
      ]
     },
     "execution_count": 18,
     "metadata": {},
     "output_type": "execute_result"
    }
   ],
   "source": [
    "data = np.array(data)\n",
    "data.shape"
   ]
  },
  {
   "cell_type": "code",
   "execution_count": 19,
   "id": "d2a4ed9b",
   "metadata": {},
   "outputs": [],
   "source": [
    "data2 = []\n",
    "for num,img_name in enumerate(validation_generator.filenames): #load image\n",
    "    # gt_ind=test_generator.classes[num] #get the loaded image class index\n",
    "    img=cv2.imread(os.path.join('E:\\\\TA\\\\CLAHE\\\\',img_name),-1)\n",
    "    img = cv2.cvtColor(img, cv2.COLOR_BGR2RGB)\n",
    "    img = np.array(img)\n",
    "    data2.append(img)"
   ]
  },
  {
   "cell_type": "code",
   "execution_count": 20,
   "id": "f763849e",
   "metadata": {},
   "outputs": [
    {
     "data": {
      "text/plain": [
       "<matplotlib.image.AxesImage at 0x2b03b6102c8>"
      ]
     },
     "execution_count": 20,
     "metadata": {},
     "output_type": "execute_result"
    },
    {
     "data": {
      "image/png": "[encoded data removed]",
      "text/plain": [
       "<Figure size 432x288 with 1 Axes>"
      ]
     },
     "metadata": {
      "needs_background": "light"
     },
     "output_type": "display_data"
    }
   ],
   "source": [
    "plt.imshow(data2[1])"
   ]
  },
  {
   "cell_type": "code",
   "execution_count": 21,
   "id": "5faad453",
   "metadata": {},
   "outputs": [
    {
     "data": {
      "text/plain": [
       "(475, 224, 224, 3)"
      ]
     },
     "execution_count": 21,
     "metadata": {},
     "output_type": "execute_result"
    }
   ],
   "source": [
    "data2 = np.array(data2)\n",
    "data2.shape"
   ]
  },
  {
   "cell_type": "code",
   "execution_count": 22,
   "id": "999ef7e7",
   "metadata": {},
   "outputs": [
    {
     "name": "stdout",
     "output_type": "stream",
     "text": [
      "(1900, 224, 224, 3)\n",
      "(475, 224, 224, 3)\n",
      "(1900,)\n",
      "(475,)\n"
     ]
    }
   ],
   "source": [
    "trainX, trainY = np.array(data), np.array(train_generator.classes)\n",
    "valX, valY = np.array(data2), np.array(validation_generator.classes)\n",
    "print(trainX.shape)\n",
    "print(valX.shape)\n",
    "print(trainY.shape)\n",
    "print(valY.shape)"
   ]
  },
  {
   "cell_type": "code",
   "execution_count": 26,
   "id": "67eea811",
   "metadata": {},
   "outputs": [
    {
     "name": "stdout",
     "output_type": "stream",
     "text": [
      "Model: \"sequential_1\"\n",
      "_________________________________________________________________\n",
      "Layer (type)                 Output Shape              Param #   \n",
      "=================================================================\n",
      "conv2d_5 (Conv2D)            (None, 54, 54, 96)        34944     \n",
      "_________________________________________________________________\n",
      "batch_normalization_5 (Batch (None, 54, 54, 96)        384       \n",
      "_________________________________________________________________\n",
      "max_pooling2d_3 (MaxPooling2 (None, 26, 26, 96)        0         \n",
      "_________________________________________________________________\n",
      "conv2d_6 (Conv2D)            (None, 26, 26, 256)       614656    \n",
      "_________________________________________________________________\n",
      "batch_normalization_6 (Batch (None, 26, 26, 256)       1024      \n",
      "_________________________________________________________________\n",
      "max_pooling2d_4 (MaxPooling2 (None, 12, 12, 256)       0         \n",
      "_________________________________________________________________\n",
      "conv2d_7 (Conv2D)            (None, 12, 12, 384)       885120    \n",
      "_________________________________________________________________\n",
      "batch_normalization_7 (Batch (None, 12, 12, 384)       1536      \n",
      "_________________________________________________________________\n",
      "conv2d_8 (Conv2D)            (None, 12, 12, 384)       147840    \n",
      "_________________________________________________________________\n",
      "batch_normalization_8 (Batch (None, 12, 12, 384)       1536      \n",
      "_________________________________________________________________\n",
      "conv2d_9 (Conv2D)            (None, 12, 12, 256)       98560     \n",
      "_________________________________________________________________\n",
      "batch_normalization_9 (Batch (None, 12, 12, 256)       1024      \n",
      "_________________________________________________________________\n",
      "max_pooling2d_5 (MaxPooling2 (None, 5, 5, 256)         0         \n",
      "_________________________________________________________________\n",
      "flatten_1 (Flatten)          (None, 6400)              0         \n",
      "_________________________________________________________________\n",
      "dense_3 (Dense)              (None, 4096)              26218496  \n",
      "_________________________________________________________________\n",
      "dropout_2 (Dropout)          (None, 4096)              0         \n",
      "_________________________________________________________________\n",
      "dense_4 (Dense)              (None, 2048)              8390656   \n",
      "_________________________________________________________________\n",
      "dropout_3 (Dropout)          (None, 2048)              0         \n",
      "_________________________________________________________________\n",
      "dense_5 (Dense)              (None, 2)                 4098      \n",
      "=================================================================\n",
      "Total params: 36,399,874\n",
      "Trainable params: 36,397,122\n",
      "Non-trainable params: 2,752\n",
      "_________________________________________________________________\n"
     ]
    }
   ],
   "source": [
    "model = keras.models.Sequential([\n",
    "    keras.layers.Conv2D(filters=96, kernel_size=(11,11), strides=(4,4), activation='relu', input_shape=(224,224,3)),\n",
    "    keras.layers.BatchNormalization(),\n",
    "    keras.layers.MaxPool2D(pool_size=(3,3), strides=(2,2)),\n",
    "    keras.layers.Conv2D(filters=256, kernel_size=(5,5), strides=(1,1), activation='relu', padding=\"same\"),\n",
    "    keras.layers.BatchNormalization(),\n",
    "    keras.layers.MaxPool2D(pool_size=(3,3), strides=(2,2)),\n",
    "    keras.layers.Conv2D(filters=384, kernel_size=(3,3), strides=(1,1), activation='relu', padding=\"same\"),\n",
    "    keras.layers.BatchNormalization(),\n",
    "    keras.layers.Conv2D(filters=384, kernel_size=(1,1), strides=(1,1), activation='relu', padding=\"same\"),\n",
    "    keras.layers.BatchNormalization(),\n",
    "    keras.layers.Conv2D(filters=256, kernel_size=(1,1), strides=(1,1), activation='relu', padding=\"same\"),\n",
    "    keras.layers.BatchNormalization(),\n",
    "    keras.layers.MaxPool2D(pool_size=(3,3), strides=(2,2)),\n",
    "    keras.layers.Flatten(),\n",
    "    keras.layers.Dense(4096, activation='relu'),\n",
    "    keras.layers.Dropout(0.1),\n",
    "    keras.layers.Dense(2048, activation='relu'),\n",
    "    keras.layers.Dropout(0.1),\n",
    "    keras.layers.Dense(2, activation='softmax')\n",
    "])\n",
    "\n",
    "model.summary()"
   ]
  },
  {
   "cell_type": "code",
   "execution_count": 27,
   "id": "9df6c052",
   "metadata": {},
   "outputs": [],
   "source": [
    "es = EarlyStopping(monitor='val_loss',\n",
    "                   patience=5,\n",
    "                   mode='auto',\n",
    "                   restore_best_weights=True)\n",
    "checkpoint = ModelCheckpoint('best_weight_AlexNet.h5',\n",
    "                             monitor='val_accuracy',\n",
    "                             verbose=1,\n",
    "                             save_best_only=True,\n",
    "                             mode='auto',)"
   ]
  },
  {
   "cell_type": "code",
   "execution_count": 28,
   "id": "ddac9cf8",
   "metadata": {},
   "outputs": [
    {
     "name": "stdout",
     "output_type": "stream",
     "text": [
      "[INFO] training network...\n",
      "Epoch 1/50\n",
      "60/60 [==============================] - ETA: 0s - loss: 102761.9297 - accuracy: 0.5663\n",
      "Epoch 00001: val_accuracy improved from -inf to 0.48632, saving model to best_weight_AlexNet.h5\n",
      "60/60 [==============================] - 79s 1s/step - loss: 102761.9297 - accuracy: 0.5663 - val_loss: 184047.4219 - val_accuracy: 0.4863\n",
      "Epoch 2/50\n",
      "60/60 [==============================] - ETA: 0s - loss: 22.2722 - accuracy: 0.6247\n",
      "Epoch 00002: val_accuracy did not improve from 0.48632\n",
      "60/60 [==============================] - 76s 1s/step - loss: 22.2722 - accuracy: 0.6247 - val_loss: 1201.7299 - val_accuracy: 0.4821\n",
      "Epoch 3/50\n",
      "60/60 [==============================] - ETA: 0s - loss: 2.3645 - accuracy: 0.6232\n",
      "Epoch 00003: val_accuracy did not improve from 0.48632\n",
      "60/60 [==============================] - 77s 1s/step - loss: 2.3645 - accuracy: 0.6232 - val_loss: 2.5812 - val_accuracy: 0.4779\n",
      "Epoch 4/50\n",
      "60/60 [==============================] - ETA: 0s - loss: 1.6507 - accuracy: 0.6263\n",
      "Epoch 00004: val_accuracy improved from 0.48632 to 0.55789, saving model to best_weight_AlexNet.h5\n",
      "60/60 [==============================] - 81s 1s/step - loss: 1.6507 - accuracy: 0.6263 - val_loss: 1.6951 - val_accuracy: 0.5579\n",
      "Epoch 5/50\n",
      "60/60 [==============================] - ETA: 0s - loss: 1.4494 - accuracy: 0.6232\n",
      "Epoch 00005: val_accuracy improved from 0.55789 to 0.72632, saving model to best_weight_AlexNet.h5\n",
      "60/60 [==============================] - 81s 1s/step - loss: 1.4494 - accuracy: 0.6232 - val_loss: 1.5637 - val_accuracy: 0.7263\n",
      "Epoch 6/50\n",
      "60/60 [==============================] - ETA: 0s - loss: 1.2164 - accuracy: 0.6016\n",
      "Epoch 00006: val_accuracy did not improve from 0.72632\n",
      "60/60 [==============================] - 77s 1s/step - loss: 1.2164 - accuracy: 0.6016 - val_loss: 2.9081 - val_accuracy: 0.6758\n",
      "Epoch 7/50\n",
      "60/60 [==============================] - ETA: 0s - loss: 7.4132 - accuracy: 0.6253\n",
      "Epoch 00007: val_accuracy did not improve from 0.72632\n",
      "60/60 [==============================] - 77s 1s/step - loss: 7.4132 - accuracy: 0.6253 - val_loss: 4.6295 - val_accuracy: 0.6716\n",
      "Epoch 8/50\n",
      "60/60 [==============================] - ETA: 0s - loss: 1.8677 - accuracy: 0.6226\n",
      "Epoch 00008: val_accuracy did not improve from 0.72632\n",
      "60/60 [==============================] - 77s 1s/step - loss: 1.8677 - accuracy: 0.6226 - val_loss: 4.7894 - val_accuracy: 0.6505\n",
      "Epoch 9/50\n",
      "60/60 [==============================] - ETA: 0s - loss: 1.0442 - accuracy: 0.5126\n",
      "Epoch 00009: val_accuracy did not improve from 0.72632\n",
      "60/60 [==============================] - 77s 1s/step - loss: 1.0442 - accuracy: 0.5126 - val_loss: 3.9266 - val_accuracy: 0.5600\n",
      "Epoch 10/50\n",
      "60/60 [==============================] - ETA: 0s - loss: 0.9540 - accuracy: 0.6258\n",
      "Epoch 00010: val_accuracy did not improve from 0.72632\n",
      "60/60 [==============================] - 78s 1s/step - loss: 0.9540 - accuracy: 0.6258 - val_loss: 0.7860 - val_accuracy: 0.6168\n",
      "Epoch 11/50\n",
      "60/60 [==============================] - ETA: 0s - loss: 0.6507 - accuracy: 0.6321\n",
      "Epoch 00011: val_accuracy did not improve from 0.72632\n",
      "60/60 [==============================] - 77s 1s/step - loss: 0.6507 - accuracy: 0.6321 - val_loss: 0.7592 - val_accuracy: 0.6589\n",
      "Epoch 12/50\n",
      "60/60 [==============================] - ETA: 0s - loss: 0.6529 - accuracy: 0.6521\n",
      "Epoch 00012: val_accuracy did not improve from 0.72632\n",
      "60/60 [==============================] - 77s 1s/step - loss: 0.6529 - accuracy: 0.6521 - val_loss: 0.8357 - val_accuracy: 0.6168\n",
      "Epoch 13/50\n",
      "60/60 [==============================] - ETA: 0s - loss: 0.9379 - accuracy: 0.6432\n",
      "Epoch 00013: val_accuracy did not improve from 0.72632\n",
      "60/60 [==============================] - 77s 1s/step - loss: 0.9379 - accuracy: 0.6432 - val_loss: 0.8109 - val_accuracy: 0.6737\n",
      "Epoch 14/50\n",
      "60/60 [==============================] - ETA: 0s - loss: 0.9843 - accuracy: 0.6142\n",
      "Epoch 00014: val_accuracy did not improve from 0.72632\n",
      "60/60 [==============================] - 77s 1s/step - loss: 0.9843 - accuracy: 0.6142 - val_loss: 0.8878 - val_accuracy: 0.6568\n",
      "Epoch 15/50\n",
      "60/60 [==============================] - ETA: 0s - loss: 0.6397 - accuracy: 0.6147\n",
      "Epoch 00015: val_accuracy did not improve from 0.72632\n",
      "60/60 [==============================] - 78s 1s/step - loss: 0.6397 - accuracy: 0.6147 - val_loss: 1.1287 - val_accuracy: 0.5305\n",
      "Epoch 16/50\n",
      "60/60 [==============================] - ETA: 0s - loss: 0.9050 - accuracy: 0.6411\n",
      "Epoch 00016: val_accuracy did not improve from 0.72632\n",
      "60/60 [==============================] - 77s 1s/step - loss: 0.9050 - accuracy: 0.6411 - val_loss: 1.1515 - val_accuracy: 0.6884\n"
     ]
    }
   ],
   "source": [
    "print(\"[INFO] training network...\")\n",
    "opt = Adam(lr=0.1, decay=1e-6)\n",
    "model.compile(loss=\"sparse_categorical_crossentropy\", optimizer=opt, metrics=[\"accuracy\"])\n",
    "H = model.fit(trainX, trainY, validation_data=(valX, valY), epochs=50, batch_size=32, callbacks=[es,checkpoint])"
   ]
  },
  {
   "cell_type": "code",
   "execution_count": 65,
   "id": "c51078dd",
   "metadata": {},
   "outputs": [
    {
     "name": "stdout",
     "output_type": "stream",
     "text": [
      "dict_keys(['loss', 'accuracy', 'val_loss', 'val_accuracy'])\n"
     ]
    },
    {
     "data": {
      "image/png": "[encoded data removed]",
      "text/plain": [
       "<Figure size 432x288 with 1 Axes>"
      ]
     },
     "metadata": {
      "needs_background": "light"
     },
     "output_type": "display_data"
    },
    {
     "data": {
      "image/png": "[encoded data removed]",
      "text/plain": [
       "<Figure size 432x288 with 1 Axes>"
      ]
     },
     "metadata": {
      "needs_background": "light"
     },
     "output_type": "display_data"
    }
   ],
   "source": [
    "import matplotlib.pyplot as plt\n",
    "\n",
    "print(H.history.keys())\n",
    "# summarize history for accuracy\n",
    "plt.plot(H.history['accuracy'])\n",
    "plt.plot(H.history['val_accuracy'])\n",
    "plt.title('model accuracy')\n",
    "plt.ylabel('accuracy')\n",
    "plt.xlabel('epoch')\n",
    "plt.legend(['train', 'test'], loc='upper left')\n",
    "plt.show()\n",
    "# summarize history for loss\n",
    "plt.plot(H.history['loss'])\n",
    "plt.plot(H.history['val_loss'])\n",
    "plt.title('model loss')\n",
    "plt.ylabel('loss')\n",
    "plt.xlabel('epoch')\n",
    "plt.legend(['train', 'test'], loc='upper left')\n",
    "plt.show()"
   ]
  },
  {
   "cell_type": "code",
   "execution_count": 66,
   "id": "902cbab2",
   "metadata": {},
   "outputs": [
    {
     "name": "stdout",
     "output_type": "stream",
     "text": [
      "              precision    recall  f1-score   support\n",
      "\n",
      "       covid       0.51      0.99      0.68       244\n",
      "      normal       0.40      0.01      0.02       231\n",
      "\n",
      "    accuracy                           0.51       475\n",
      "   macro avg       0.46      0.50      0.35       475\n",
      "weighted avg       0.46      0.51      0.36       475\n",
      "\n"
     ]
    }
   ],
   "source": [
    "from sklearn.preprocessing import LabelEncoder\n",
    "from sklearn.metrics import confusion_matrix, ConfusionMatrixDisplay, classification_report\n",
    "predictions = model.predict(valX, batch_size=32)\n",
    "print(classification_report(valY,predictions.argmax(axis=1),target_names = train_generator.class_indices))"
   ]
  },
  {
   "cell_type": "code",
   "execution_count": 48,
   "id": "21bce7dc",
   "metadata": {},
   "outputs": [
    {
     "name": "stdout",
     "output_type": "stream",
     "text": [
      "[[  0 244]\n",
      " [  4 227]]\n"
     ]
    }
   ],
   "source": [
    "cf_matrix = confusion_matrix(valY,predictions.argmax(axis=1))\n",
    "print(cf_matrix)"
   ]
  },
  {
   "cell_type": "code",
   "execution_count": 49,
   "id": "f26e9707",
   "metadata": {},
   "outputs": [
    {
     "data": {
      "text/plain": [
       "<sklearn.metrics._plot.confusion_matrix.ConfusionMatrixDisplay at 0x1d63e592408>"
      ]
     },
     "execution_count": 49,
     "metadata": {},
     "output_type": "execute_result"
    },
    {
     "data": {
      "image/png": "[encoded data removed]",
      "text/plain": [
       "<Figure size 432x288 with 2 Axes>"
      ]
     },
     "metadata": {
      "needs_background": "light"
     },
     "output_type": "display_data"
    }
   ],
   "source": [
    "disp = ConfusionMatrixDisplay(confusion_matrix=cf_matrix, display_labels=validation_generator.class_indices)\n",
    "disp.plot(cmap=plt.cm.Blues)"
   ]
  },
  {
   "cell_type": "code",
   "execution_count": null,
   "id": "f71240ec",
   "metadata": {},
   "outputs": [],
   "source": []
  }
 ],
 "metadata": {
  "kernelspec": {
   "display_name": "Python 3",
   "language": "python",
   "name": "python3"
  },
  "language_info": {
   "codemirror_mode": {
    "name": "ipython",
    "version": 3
   },
   "file_extension": ".py",
   "mimetype": "text/x-python",
   "name": "python",
   "nbconvert_exporter": "python",
   "pygments_lexer": "ipython3",
   "version": "3.7.7"
  }
 },
 "nbformat": 4,
 "nbformat_minor": 5
}
