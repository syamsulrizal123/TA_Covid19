{
  "nbformat": 4,
  "nbformat_minor": 0,
  "metadata": {
    "colab": {
      "name": "TA_NewScenario.ipynb",
      "provenance": [],
      "collapsed_sections": [],
      "authorship_tag": "ABX9TyORdGsvPzDJ2l/yC7FFK8Mm",
      "include_colab_link": true
    },
    "kernelspec": {
      "name": "python3",
      "display_name": "Python 3"
    },
    "language_info": {
      "name": "python"
    },
    "accelerator": "GPU"
  },
  "cells": [
    {
      "cell_type": "markdown",
      "metadata": {
        "id": "view-in-github",
        "colab_type": "text"
      },
      "source": [
        "<a href=\"https://colab.research.google.com/github/syamsulrizal123/TA_Covid19/blob/main/TA_NewScenario.ipynb\" target=\"_parent\"><img src=\"https://colab.research.google.com/assets/colab-badge.svg\" alt=\"Open In Colab\"/></a>"
      ]
    },
    {
      "cell_type": "code",
      "metadata": {
        "colab": {
          "base_uri": "https://localhost:8080/"
        },
        "id": "qe-rJZTxEbAq",
        "outputId": "6000892f-0e92-4343-80ff-30b82010b181"
      },
      "source": [
        "#Connect your Google Drive \n",
        "from google.colab import drive\n",
        "drive.mount('/content/drive')"
      ],
      "execution_count": 2,
      "outputs": [
        {
          "output_type": "stream",
          "text": [
            "Drive already mounted at /content/drive; to attempt to forcibly remount, call drive.mount(\"/content/drive\", force_remount=True).\n"
          ],
          "name": "stdout"
        }
      ]
    },
    {
      "cell_type": "code",
      "metadata": {
        "id": "kUer0bZKEe_T"
      },
      "source": [
        "import numpy as np\n",
        "import os\n",
        "from imutils import paths\n",
        "from PIL import Image\n",
        "import matplotlib.pyplot as plt\n",
        "import keras\n",
        "from keras.models import Sequential\n",
        "from keras.layers.convolutional import Conv2D\n",
        "from keras.layers.convolutional import MaxPooling2D\n",
        "from keras.layers.core import Activation\n",
        "from keras.layers.core import Flatten\n",
        "from keras.layers.core import Dense\n",
        "from keras.layers import GlobalAveragePooling2D, BatchNormalization, Dropout\n",
        "from keras.applications.vgg16 import VGG16\n",
        "from keras.models import Model\n",
        "import tensorflow as tf\n",
        "import cv2\n",
        "import io\n",
        "from skimage.filters import gaussian\n",
        "from skimage import exposure\n",
        "import matplotlib.image as mpimg\n",
        "import tensorflow\n",
        "from tensorflow.keras import Model, Input\n",
        "from tensorflow.keras.layers import Conv2D, MaxPooling2D, Dense, ReLU, BatchNormalization\n",
        "from tensorflow.keras.layers import Add, GlobalAveragePooling2D\n",
        "from skimage import io\n",
        "from sklearn.preprocessing import LabelEncoder\n",
        "from sklearn.model_selection import train_test_split\n",
        "from keras.callbacks import EarlyStopping, ModelCheckpoint\n",
        "from keras.optimizers import Adam, SGD, RMSprop, Adamax, Nadam\n",
        "from sklearn.metrics import confusion_matrix, ConfusionMatrixDisplay, classification_report\n",
        "from keras import backend as k\n",
        "from keras.preprocessing.image import ImageDataGenerator\n",
        "\n",
        "import keras\n",
        "import numpy as np\n",
        "import cv2\n",
        "import os\n",
        "import random\n",
        "import shutil\n",
        "import pandas as pd\n",
        "import csv\n",
        "import zipfile\n",
        "from keras import optimizers\n",
        "from keras.models import Sequential,Model\n",
        "from keras.layers import Dropout, Flatten, Dense,Input, Conv2D, MaxPooling2D\n",
        "from keras.applications.resnet_v2 import ResNet50V2\n",
        "from keras.applications.xception import Xception\n",
        "from keras.applications.resnet50 import ResNet50\n",
        "from keras.applications.vgg16 import VGG16\n",
        "from keras.callbacks import ModelCheckpoint\n",
        "from keras.applications.imagenet_utils import preprocess_input\n",
        "from keras import backend as K\n",
        "from keras.preprocessing.image import ImageDataGenerator\n",
        "from keras.initializers import RandomNormal\n",
        "import keras.backend as k\n",
        "from sklearn.utils import shuffle\n",
        "import io\n",
        "from PIL import Image as pil_image\n",
        "# from keras_retinanet import layers\n",
        "import keras.backend as k\n",
        "# import keras_retinanet"
      ],
      "execution_count": 6,
      "outputs": []
    },
    {
      "cell_type": "code",
      "metadata": {
        "id": "TOqR32OLElDQ"
      },
      "source": [
        "fold_num=1 #Select Fold Number"
      ],
      "execution_count": 7,
      "outputs": []
    },
    {
      "cell_type": "code",
      "metadata": {
        "id": "WUrp6Ew1EqES"
      },
      "source": [
        "#Here we set the data generators for applying data augmentation methods\n",
        "train_datagen = ImageDataGenerator()#horizontal_flip=True,vertical_flip=True,zoom_range=0.05,rotation_range=360,width_shift_range=0.05,height_shift_range=0.05,shear_range=0.05)\n",
        "test_datagen = ImageDataGenerator()\n",
        "train_df =pd.read_csv('/content/drive/MyDrive/COVID-CTset (1)/CSV/train{}.csv'.format(fold_num)) #raed train csv file\n",
        "validation_df = pd.read_csv('/content/drive/MyDrive/COVID-CTset (1)/CSV/validation{}.csv'.format(fold_num)) #raed validation csv file (Validation in the training process)\n",
        "train_df = shuffle(train_df) #Shuffle the train data\n",
        "test_df = pd.read_csv('/content/drive/MyDrive/COVID-CTset (1)/CSV/test{}.csv'.format(fold_num))#raed test csv file (For evaluating the final version of th"
      ],
      "execution_count": 8,
      "outputs": []
    },
    {
      "cell_type": "code",
      "metadata": {
        "colab": {
          "base_uri": "https://localhost:8080/",
          "height": 402
        },
        "id": "qYQYl3s5EsN9",
        "outputId": "6123c62c-2e00-4a73-bc56-01f95a29904d"
      },
      "source": [
        "# generating one row \n",
        "train_df = train_df.sample(n =1900, random_state=1)\n",
        "    \n",
        "# display\n",
        "train_df"
      ],
      "execution_count": 10,
      "outputs": [
        {
          "output_type": "execute_result",
          "data": {
            "text/html": [
              "<div>\n",
              "<style scoped>\n",
              "    .dataframe tbody tr th:only-of-type {\n",
              "        vertical-align: middle;\n",
              "    }\n",
              "\n",
              "    .dataframe tbody tr th {\n",
              "        vertical-align: top;\n",
              "    }\n",
              "\n",
              "    .dataframe thead th {\n",
              "        text-align: right;\n",
              "    }\n",
              "</style>\n",
              "<table border=\"1\" class=\"dataframe\">\n",
              "  <thead>\n",
              "    <tr style=\"text-align: right;\">\n",
              "      <th></th>\n",
              "      <th>filename</th>\n",
              "      <th>class</th>\n",
              "    </tr>\n",
              "  </thead>\n",
              "  <tbody>\n",
              "    <tr>\n",
              "      <th>2409</th>\n",
              "      <td>normal1_patient167_SR_2_IM00015.tif</td>\n",
              "      <td>normal</td>\n",
              "    </tr>\n",
              "    <tr>\n",
              "      <th>639</th>\n",
              "      <td>157covid_patient125_SR_2_IM00030.tif</td>\n",
              "      <td>covid</td>\n",
              "    </tr>\n",
              "    <tr>\n",
              "      <th>328</th>\n",
              "      <td>137covid_patient69_SR_2_IM00010.tif</td>\n",
              "      <td>covid</td>\n",
              "    </tr>\n",
              "    <tr>\n",
              "      <th>2673</th>\n",
              "      <td>normal1_patient176_SR_2_IM00013.tif</td>\n",
              "      <td>normal</td>\n",
              "    </tr>\n",
              "    <tr>\n",
              "      <th>2767</th>\n",
              "      <td>normal1_patient179_SR_2_IM00016.tif</td>\n",
              "      <td>normal</td>\n",
              "    </tr>\n",
              "    <tr>\n",
              "      <th>...</th>\n",
              "      <td>...</td>\n",
              "      <td>...</td>\n",
              "    </tr>\n",
              "    <tr>\n",
              "      <th>828</th>\n",
              "      <td>137covid_patient26_SR_3_IM00018.tif</td>\n",
              "      <td>covid</td>\n",
              "    </tr>\n",
              "    <tr>\n",
              "      <th>588</th>\n",
              "      <td>137covid_patient99_SR_2_IM00009.tif</td>\n",
              "      <td>covid</td>\n",
              "    </tr>\n",
              "    <tr>\n",
              "      <th>729</th>\n",
              "      <td>157covid_patient138_SR_2_IM00037.tif</td>\n",
              "      <td>covid</td>\n",
              "    </tr>\n",
              "    <tr>\n",
              "      <th>177</th>\n",
              "      <td>137covid_patient45_SR_2_IM00033.tif</td>\n",
              "      <td>covid</td>\n",
              "    </tr>\n",
              "    <tr>\n",
              "      <th>661</th>\n",
              "      <td>157covid_patient128_SR_2_IM00014.tif</td>\n",
              "      <td>covid</td>\n",
              "    </tr>\n",
              "  </tbody>\n",
              "</table>\n",
              "<p>1900 rows × 2 columns</p>\n",
              "</div>"
            ],
            "text/plain": [
              "                                  filename   class\n",
              "2409   normal1_patient167_SR_2_IM00015.tif  normal\n",
              "639   157covid_patient125_SR_2_IM00030.tif   covid\n",
              "328    137covid_patient69_SR_2_IM00010.tif   covid\n",
              "2673   normal1_patient176_SR_2_IM00013.tif  normal\n",
              "2767   normal1_patient179_SR_2_IM00016.tif  normal\n",
              "...                                    ...     ...\n",
              "828    137covid_patient26_SR_3_IM00018.tif   covid\n",
              "588    137covid_patient99_SR_2_IM00009.tif   covid\n",
              "729   157covid_patient138_SR_2_IM00037.tif   covid\n",
              "177    137covid_patient45_SR_2_IM00033.tif   covid\n",
              "661   157covid_patient128_SR_2_IM00014.tif   covid\n",
              "\n",
              "[1900 rows x 2 columns]"
            ]
          },
          "metadata": {
            "tags": []
          },
          "execution_count": 10
        }
      ]
    },
    {
      "cell_type": "code",
      "metadata": {
        "colab": {
          "base_uri": "https://localhost:8080/",
          "height": 136
        },
        "id": "se_JIsa-EvkC",
        "outputId": "964a5d37-dd88-4ef6-bfb1-caa5b66e1cee"
      },
      "source": [
        "train_df.groupby('class').count()"
      ],
      "execution_count": 12,
      "outputs": [
        {
          "output_type": "execute_result",
          "data": {
            "text/html": [
              "<div>\n",
              "<style scoped>\n",
              "    .dataframe tbody tr th:only-of-type {\n",
              "        vertical-align: middle;\n",
              "    }\n",
              "\n",
              "    .dataframe tbody tr th {\n",
              "        vertical-align: top;\n",
              "    }\n",
              "\n",
              "    .dataframe thead th {\n",
              "        text-align: right;\n",
              "    }\n",
              "</style>\n",
              "<table border=\"1\" class=\"dataframe\">\n",
              "  <thead>\n",
              "    <tr style=\"text-align: right;\">\n",
              "      <th></th>\n",
              "      <th>filename</th>\n",
              "    </tr>\n",
              "    <tr>\n",
              "      <th>class</th>\n",
              "      <th></th>\n",
              "    </tr>\n",
              "  </thead>\n",
              "  <tbody>\n",
              "    <tr>\n",
              "      <th>covid</th>\n",
              "      <td>919</td>\n",
              "    </tr>\n",
              "    <tr>\n",
              "      <th>normal</th>\n",
              "      <td>981</td>\n",
              "    </tr>\n",
              "  </tbody>\n",
              "</table>\n",
              "</div>"
            ],
            "text/plain": [
              "        filename\n",
              "class           \n",
              "covid        919\n",
              "normal       981"
            ]
          },
          "metadata": {
            "tags": []
          },
          "execution_count": 12
        }
      ]
    },
    {
      "cell_type": "code",
      "metadata": {
        "colab": {
          "base_uri": "https://localhost:8080/",
          "height": 402
        },
        "id": "SOkI0Ih0Exaa",
        "outputId": "4a3a230b-7283-4a63-da3b-2b83b0f7c904"
      },
      "source": [
        "# generating one row\n",
        "validation_df = validation_df.sample(n = 475, random_state = 1)\n",
        "    \n",
        "# display\n",
        "validation_df"
      ],
      "execution_count": 13,
      "outputs": [
        {
          "output_type": "execute_result",
          "data": {
            "text/html": [
              "<div>\n",
              "<style scoped>\n",
              "    .dataframe tbody tr th:only-of-type {\n",
              "        vertical-align: middle;\n",
              "    }\n",
              "\n",
              "    .dataframe tbody tr th {\n",
              "        vertical-align: top;\n",
              "    }\n",
              "\n",
              "    .dataframe thead th {\n",
              "        text-align: right;\n",
              "    }\n",
              "</style>\n",
              "<table border=\"1\" class=\"dataframe\">\n",
              "  <thead>\n",
              "    <tr style=\"text-align: right;\">\n",
              "      <th></th>\n",
              "      <th>filename</th>\n",
              "      <th>class</th>\n",
              "    </tr>\n",
              "  </thead>\n",
              "  <tbody>\n",
              "    <tr>\n",
              "      <th>191</th>\n",
              "      <td>137covid_patient105_SR_3_IM00020.tif</td>\n",
              "      <td>covid</td>\n",
              "    </tr>\n",
              "    <tr>\n",
              "      <th>832</th>\n",
              "      <td>normal2_patient314_SR_2_IM00033.tif</td>\n",
              "      <td>normal</td>\n",
              "    </tr>\n",
              "    <tr>\n",
              "      <th>111</th>\n",
              "      <td>137covid_patient120_SR_2_IM00022.tif</td>\n",
              "      <td>covid</td>\n",
              "    </tr>\n",
              "    <tr>\n",
              "      <th>262</th>\n",
              "      <td>137covid_patient120_SR_3_IM00025.tif</td>\n",
              "      <td>covid</td>\n",
              "    </tr>\n",
              "    <tr>\n",
              "      <th>670</th>\n",
              "      <td>normal5_patient226_SR_2_IM00024.tif</td>\n",
              "      <td>normal</td>\n",
              "    </tr>\n",
              "    <tr>\n",
              "      <th>...</th>\n",
              "      <td>...</td>\n",
              "      <td>...</td>\n",
              "    </tr>\n",
              "    <tr>\n",
              "      <th>865</th>\n",
              "      <td>normalcd1_patient412_SR_2_IM00032.tif</td>\n",
              "      <td>normal</td>\n",
              "    </tr>\n",
              "    <tr>\n",
              "      <th>304</th>\n",
              "      <td>137covid_patient18_SR_3_IM00013.tif</td>\n",
              "      <td>covid</td>\n",
              "    </tr>\n",
              "    <tr>\n",
              "      <th>200</th>\n",
              "      <td>137covid_patient10_SR_3_IM00016.tif</td>\n",
              "      <td>covid</td>\n",
              "    </tr>\n",
              "    <tr>\n",
              "      <th>394</th>\n",
              "      <td>137covid_patient118_SR_4_IM00010.tif</td>\n",
              "      <td>covid</td>\n",
              "    </tr>\n",
              "    <tr>\n",
              "      <th>869</th>\n",
              "      <td>normal3_patient352_SR_2_IM00017.tif</td>\n",
              "      <td>normal</td>\n",
              "    </tr>\n",
              "  </tbody>\n",
              "</table>\n",
              "<p>475 rows × 2 columns</p>\n",
              "</div>"
            ],
            "text/plain": [
              "                                  filename   class\n",
              "191   137covid_patient105_SR_3_IM00020.tif   covid\n",
              "832    normal2_patient314_SR_2_IM00033.tif  normal\n",
              "111   137covid_patient120_SR_2_IM00022.tif   covid\n",
              "262   137covid_patient120_SR_3_IM00025.tif   covid\n",
              "670    normal5_patient226_SR_2_IM00024.tif  normal\n",
              "..                                     ...     ...\n",
              "865  normalcd1_patient412_SR_2_IM00032.tif  normal\n",
              "304    137covid_patient18_SR_3_IM00013.tif   covid\n",
              "200    137covid_patient10_SR_3_IM00016.tif   covid\n",
              "394   137covid_patient118_SR_4_IM00010.tif   covid\n",
              "869    normal3_patient352_SR_2_IM00017.tif  normal\n",
              "\n",
              "[475 rows x 2 columns]"
            ]
          },
          "metadata": {
            "tags": []
          },
          "execution_count": 13
        }
      ]
    },
    {
      "cell_type": "code",
      "metadata": {
        "colab": {
          "base_uri": "https://localhost:8080/",
          "height": 136
        },
        "id": "1SsY9hbaE16B",
        "outputId": "518fbeae-70b1-46df-c9b6-f9ca04ca5240"
      },
      "source": [
        "validation_df.groupby('class').count()"
      ],
      "execution_count": 14,
      "outputs": [
        {
          "output_type": "execute_result",
          "data": {
            "text/html": [
              "<div>\n",
              "<style scoped>\n",
              "    .dataframe tbody tr th:only-of-type {\n",
              "        vertical-align: middle;\n",
              "    }\n",
              "\n",
              "    .dataframe tbody tr th {\n",
              "        vertical-align: top;\n",
              "    }\n",
              "\n",
              "    .dataframe thead th {\n",
              "        text-align: right;\n",
              "    }\n",
              "</style>\n",
              "<table border=\"1\" class=\"dataframe\">\n",
              "  <thead>\n",
              "    <tr style=\"text-align: right;\">\n",
              "      <th></th>\n",
              "      <th>filename</th>\n",
              "    </tr>\n",
              "    <tr>\n",
              "      <th>class</th>\n",
              "      <th></th>\n",
              "    </tr>\n",
              "  </thead>\n",
              "  <tbody>\n",
              "    <tr>\n",
              "      <th>covid</th>\n",
              "      <td>244</td>\n",
              "    </tr>\n",
              "    <tr>\n",
              "      <th>normal</th>\n",
              "      <td>231</td>\n",
              "    </tr>\n",
              "  </tbody>\n",
              "</table>\n",
              "</div>"
            ],
            "text/plain": [
              "        filename\n",
              "class           \n",
              "covid        244\n",
              "normal       231"
            ]
          },
          "metadata": {
            "tags": []
          },
          "execution_count": 14
        }
      ]
    },
    {
      "cell_type": "code",
      "metadata": {
        "id": "7nSJKiX3E4uE"
      },
      "source": [
        "test_df = test_df.drop(test_df[test_df['class']=='normal'].sample(frac =.94).index)"
      ],
      "execution_count": 15,
      "outputs": []
    },
    {
      "cell_type": "code",
      "metadata": {
        "colab": {
          "base_uri": "https://localhost:8080/",
          "height": 402
        },
        "id": "lPIBN-g6E78O",
        "outputId": "0b16c62a-1cbd-4fe9-f814-4633302793d3"
      },
      "source": [
        "# generating one row\n",
        "test_df = test_df.sample(n =200, random_state=1)\n",
        "    \n",
        "# display\n",
        "test_df"
      ],
      "execution_count": 16,
      "outputs": [
        {
          "output_type": "execute_result",
          "data": {
            "text/html": [
              "<div>\n",
              "<style scoped>\n",
              "    .dataframe tbody tr th:only-of-type {\n",
              "        vertical-align: middle;\n",
              "    }\n",
              "\n",
              "    .dataframe tbody tr th {\n",
              "        vertical-align: top;\n",
              "    }\n",
              "\n",
              "    .dataframe thead th {\n",
              "        text-align: right;\n",
              "    }\n",
              "</style>\n",
              "<table border=\"1\" class=\"dataframe\">\n",
              "  <thead>\n",
              "    <tr style=\"text-align: right;\">\n",
              "      <th></th>\n",
              "      <th>filename</th>\n",
              "      <th>class</th>\n",
              "    </tr>\n",
              "  </thead>\n",
              "  <tbody>\n",
              "    <tr>\n",
              "      <th>363</th>\n",
              "      <td>137covid_patient115_SR_4_IM00004.tif</td>\n",
              "      <td>covid</td>\n",
              "    </tr>\n",
              "    <tr>\n",
              "      <th>41</th>\n",
              "      <td>137covid_patient10_SR_2_IM00024.tif</td>\n",
              "      <td>covid</td>\n",
              "    </tr>\n",
              "    <tr>\n",
              "      <th>6932</th>\n",
              "      <td>normal5_patient386_SR_2_IM00029.tif</td>\n",
              "      <td>normal</td>\n",
              "    </tr>\n",
              "    <tr>\n",
              "      <th>1602</th>\n",
              "      <td>normal1_patient234_SR_2_IM00012.tif</td>\n",
              "      <td>normal</td>\n",
              "    </tr>\n",
              "    <tr>\n",
              "      <th>35</th>\n",
              "      <td>137covid_patient10_SR_2_IM00015.tif</td>\n",
              "      <td>covid</td>\n",
              "    </tr>\n",
              "    <tr>\n",
              "      <th>...</th>\n",
              "      <td>...</td>\n",
              "      <td>...</td>\n",
              "    </tr>\n",
              "    <tr>\n",
              "      <th>5349</th>\n",
              "      <td>normal4_patient215_SR_2_IM00037.tif</td>\n",
              "      <td>normal</td>\n",
              "    </tr>\n",
              "    <tr>\n",
              "      <th>354</th>\n",
              "      <td>137covid_patient105_SR_4_IM00121.tif</td>\n",
              "      <td>covid</td>\n",
              "    </tr>\n",
              "    <tr>\n",
              "      <th>6616</th>\n",
              "      <td>normal5_patient201_SR_2_IM00023.tif</td>\n",
              "      <td>normal</td>\n",
              "    </tr>\n",
              "    <tr>\n",
              "      <th>241</th>\n",
              "      <td>137covid_patient118_SR_3_IM00014.tif</td>\n",
              "      <td>covid</td>\n",
              "    </tr>\n",
              "    <tr>\n",
              "      <th>135</th>\n",
              "      <td>137covid_patient15_SR_2_IM00010.tif</td>\n",
              "      <td>covid</td>\n",
              "    </tr>\n",
              "  </tbody>\n",
              "</table>\n",
              "<p>200 rows × 2 columns</p>\n",
              "</div>"
            ],
            "text/plain": [
              "                                  filename   class\n",
              "363   137covid_patient115_SR_4_IM00004.tif   covid\n",
              "41     137covid_patient10_SR_2_IM00024.tif   covid\n",
              "6932   normal5_patient386_SR_2_IM00029.tif  normal\n",
              "1602   normal1_patient234_SR_2_IM00012.tif  normal\n",
              "35     137covid_patient10_SR_2_IM00015.tif   covid\n",
              "...                                    ...     ...\n",
              "5349   normal4_patient215_SR_2_IM00037.tif  normal\n",
              "354   137covid_patient105_SR_4_IM00121.tif   covid\n",
              "6616   normal5_patient201_SR_2_IM00023.tif  normal\n",
              "241   137covid_patient118_SR_3_IM00014.tif   covid\n",
              "135    137covid_patient15_SR_2_IM00010.tif   covid\n",
              "\n",
              "[200 rows x 2 columns]"
            ]
          },
          "metadata": {
            "tags": []
          },
          "execution_count": 16
        }
      ]
    },
    {
      "cell_type": "code",
      "metadata": {
        "colab": {
          "base_uri": "https://localhost:8080/",
          "height": 136
        },
        "id": "HhUumZznE-I8",
        "outputId": "24aef5ea-bdb2-4007-d492-35b85fea7656"
      },
      "source": [
        "test_df.groupby('class').count()"
      ],
      "execution_count": 17,
      "outputs": [
        {
          "output_type": "execute_result",
          "data": {
            "text/html": [
              "<div>\n",
              "<style scoped>\n",
              "    .dataframe tbody tr th:only-of-type {\n",
              "        vertical-align: middle;\n",
              "    }\n",
              "\n",
              "    .dataframe tbody tr th {\n",
              "        vertical-align: top;\n",
              "    }\n",
              "\n",
              "    .dataframe thead th {\n",
              "        text-align: right;\n",
              "    }\n",
              "</style>\n",
              "<table border=\"1\" class=\"dataframe\">\n",
              "  <thead>\n",
              "    <tr style=\"text-align: right;\">\n",
              "      <th></th>\n",
              "      <th>filename</th>\n",
              "    </tr>\n",
              "    <tr>\n",
              "      <th>class</th>\n",
              "      <th></th>\n",
              "    </tr>\n",
              "  </thead>\n",
              "  <tbody>\n",
              "    <tr>\n",
              "      <th>covid</th>\n",
              "      <td>93</td>\n",
              "    </tr>\n",
              "    <tr>\n",
              "      <th>normal</th>\n",
              "      <td>107</td>\n",
              "    </tr>\n",
              "  </tbody>\n",
              "</table>\n",
              "</div>"
            ],
            "text/plain": [
              "        filename\n",
              "class           \n",
              "covid         93\n",
              "normal       107"
            ]
          },
          "metadata": {
            "tags": []
          },
          "execution_count": 17
        }
      ]
    },
    {
      "cell_type": "code",
      "metadata": {
        "id": "b5NLWRAxFAvX"
      },
      "source": [
        "shape=(224,224,3) #shape of the dataset images (in TIFF format)"
      ],
      "execution_count": 18,
      "outputs": []
    },
    {
      "cell_type": "code",
      "metadata": {
        "colab": {
          "base_uri": "https://localhost:8080/"
        },
        "id": "ymfzPHtUFCWF",
        "outputId": "8ba4dbbe-6269-4599-a825-6b4785d2b7f8"
      },
      "source": [
        "#Create the generators\n",
        "train_generator = train_datagen.flow_from_dataframe(\n",
        "      dataframe=train_df,\n",
        "      directory='/content/drive/MyDrive/Dataset_TA/Gaussian/',\n",
        "      x_col=\"filename\",\n",
        "      y_col=\"class\",\n",
        "      target_size=shape[:2],\n",
        "      batch_size=32,\n",
        "      class_mode='categorical',color_mode=\"rgb\",shuffle=True)\n",
        "validation_generator = test_datagen.flow_from_dataframe(\n",
        "        dataframe=validation_df,\n",
        "        directory='/content/drive/MyDrive/Dataset_TA/Gaussian/',\n",
        "        x_col=\"filename\",\n",
        "        y_col=\"class\",\n",
        "        target_size=shape[:2],\n",
        "        batch_size=32,\n",
        "        class_mode='categorical',color_mode=\"rgb\",shuffle=True)\n",
        "test_generator = test_datagen.flow_from_dataframe(\n",
        "        dataframe=test_df,\n",
        "        directory='/content/drive/MyDrive/Dataset_TA/Gaussian/',\n",
        "        x_col=\"filename\",\n",
        "        y_col=\"class\",\n",
        "        target_size=shape[:2],\n",
        "        batch_size=32,\n",
        "        class_mode='categorical',color_mode=\"rgb\",shuffle=True)"
      ],
      "execution_count": 19,
      "outputs": [
        {
          "output_type": "stream",
          "text": [
            "Found 1900 validated image filenames belonging to 2 classes.\n",
            "Found 475 validated image filenames belonging to 2 classes.\n",
            "Found 200 validated image filenames belonging to 2 classes.\n"
          ],
          "name": "stdout"
        }
      ]
    },
    {
      "cell_type": "code",
      "metadata": {
        "id": "2GvuftHbFEsi"
      },
      "source": [
        "data = []\n",
        "for num,img_name in enumerate(train_generator.filenames): #load image\n",
        "    # gt_ind=test_generator.classes[num] #get the loaded image class index\n",
        "    img=cv2.imread(os.path.join('/content/drive/MyDrive/Dataset_TA/Gaussian/',img_name),-1)\n",
        "    img = cv2.cvtColor(img, cv2.COLOR_BGR2RGB)\n",
        "    img = np.array(img)\n",
        "    data.append(img)"
      ],
      "execution_count": 20,
      "outputs": []
    },
    {
      "cell_type": "code",
      "metadata": {
        "colab": {
          "base_uri": "https://localhost:8080/",
          "height": 286
        },
        "id": "qdOIF5mqFP40",
        "outputId": "2ce09501-2a68-4271-8e7e-4bf0a75ca96a"
      },
      "source": [
        "plt.imshow(data[1])"
      ],
      "execution_count": 21,
      "outputs": [
        {
          "output_type": "execute_result",
          "data": {
            "text/plain": [
              "<matplotlib.image.AxesImage at 0x7f5a1c981910>"
            ]
          },
          "metadata": {
            "tags": []
          },
          "execution_count": 21
        },
        {
          "output_type": "display_data",
          "data": {
            "image/png": "[encoded data removed]",
            "text/plain": [
              "<Figure size 432x288 with 1 Axes>"
            ]
          },
          "metadata": {
            "tags": [],
            "needs_background": "light"
          }
        }
      ]
    },
    {
      "cell_type": "code",
      "metadata": {
        "colab": {
          "base_uri": "https://localhost:8080/"
        },
        "id": "AIBBGMruFQYm",
        "outputId": "4ab83371-71cf-477b-ede2-1bd9fd4139f6"
      },
      "source": [
        "data = np.array(data)\n",
        "data.shape"
      ],
      "execution_count": 22,
      "outputs": [
        {
          "output_type": "execute_result",
          "data": {
            "text/plain": [
              "(1900, 224, 224, 3)"
            ]
          },
          "metadata": {
            "tags": []
          },
          "execution_count": 22
        }
      ]
    },
    {
      "cell_type": "code",
      "metadata": {
        "colab": {
          "base_uri": "https://localhost:8080/"
        },
        "id": "ZfrJXOeQFTzl",
        "outputId": "54de8350-1035-4cae-908d-379b13f3b2ff"
      },
      "source": [
        "from sklearn.model_selection import train_test_split\n",
        "# perform a training and testing split, using 75% of the data for\n",
        "# training and 25% for evaluation\n",
        "(trainX, testX, trainY, testY) = train_test_split(np.array(data),\tnp.array(train_generator.classes), test_size=0.25)\n",
        "#trainY = np.asarray(trainY).astype('float32').reshape((-1,1))\n",
        "#testY = np.asarray(testY).astype('float32').reshape((-1,1))\n",
        "print(trainX.shape)\n",
        "print(testX.shape)\n",
        "print(trainY.shape)\n",
        "print(testY.shape)"
      ],
      "execution_count": 23,
      "outputs": [
        {
          "output_type": "stream",
          "text": [
            "(1425, 224, 224, 3)\n",
            "(475, 224, 224, 3)\n",
            "(1425,)\n",
            "(475,)\n"
          ],
          "name": "stdout"
        }
      ]
    },
    {
      "cell_type": "code",
      "metadata": {
        "id": "ZRMc7G0VFXIB"
      },
      "source": [
        "k.clear_session()\n",
        "def stem(inputs):\n",
        "    \"\"\" Construct the Stem Convolution Group\n",
        "        inputs : input vector\n",
        "    \"\"\"\n",
        "    # First Convolutional layer, where pooled feature maps will be reduced by 75%\n",
        "    x = Conv2D(64, (7, 7), strides=(2, 2), padding='same', activation='relu', kernel_initializer=\"he_normal\")(inputs)\n",
        "    x = MaxPooling2D((3, 3), strides=(2, 2), padding='same')(x)\n",
        "    return x\n",
        "    \n",
        "def learner(x):\n",
        "    \"\"\" Construct the Learner\n",
        "        x  : input to the learner\n",
        "    \"\"\"\n",
        "    # First Residual Block Group of 64 filters\n",
        "    x = residual_group(x, 64, 3)\n",
        "\n",
        "    # Second Residual Block Group of 128 filters\n",
        "    x = residual_group(x, 128, 3)\n",
        "\n",
        "    # Third Residual Block Group of 256 filters\n",
        "    x = residual_group(x, 256, 5)\n",
        "\n",
        "    # Fourth Residual Block Group of 512 filters\n",
        "    x = residual_group(x, 512, 2, False)\n",
        "    return x\n",
        "\n",
        "    \n",
        "def residual_group(x, n_filters, n_blocks, conv=True):\n",
        "    \"\"\" Construct a Residual Group\n",
        "        x        : input to the group\n",
        "        n_filters: number of filters\n",
        "        n_blocks : number of blocks in the group\n",
        "        conv     : flag to include the convolution block connector\n",
        "    \"\"\"\n",
        "    for _ in range(n_blocks):\n",
        "        x = residual_block(x, n_filters)\n",
        "\n",
        "    # Double the size of filters and reduce feature maps by 75% (strides=2, 2) to fit the next Residual Group\n",
        "    if conv:\n",
        "        x = conv_block(x, n_filters * 2)\n",
        "    return x\n",
        "\n",
        "def residual_block(x, n_filters):\n",
        "    \"\"\" Construct a Residual Block of Convolutions\n",
        "        x        : input into the block\n",
        "        n_filters: number of filters\n",
        "    \"\"\"\n",
        "    shortcut = x\n",
        "    x = Conv2D(n_filters, (3, 3), strides=(1, 1), padding=\"same\",\n",
        "                      activation=\"relu\", kernel_initializer=\"he_normal\")(x)\n",
        "    x = Conv2D(n_filters, (3, 3), strides=(1, 1), padding=\"same\",\n",
        "                      activation=\"relu\", kernel_initializer=\"he_normal\")(x)\n",
        "    x = Add()([shortcut, x])\n",
        "    return x\n",
        "\n",
        "def conv_block(x, n_filters):\n",
        "    \"\"\" Construct Block of Convolutions without Pooling\n",
        "        x        : input into the block\n",
        "        n_filters: number of filters\n",
        "    \"\"\"\n",
        "    x = Conv2D(n_filters, (3, 3), strides=(2, 2), padding=\"same\",\n",
        "                  activation=\"relu\", kernel_initializer=\"he_normal\")(x)\n",
        "    x = Conv2D(n_filters, (3, 3), strides=(2, 2), padding=\"same\",\n",
        "                  activation=\"relu\", kernel_initializer=\"he_normal\")(x)\n",
        "    return x\n",
        "    \n",
        "def classifier(x, n_classes):\n",
        "    \"\"\" Construct the Classifier Group\n",
        "        x         : input vector\n",
        "        n_classes : number of output classes\n",
        "    \"\"\"\n",
        "    # Pool at the end of all the convolutional residual blocks\n",
        "    x = GlobalAveragePooling2D()(x)\n",
        "\n",
        "    # Final Dense Outputting Layer for the outputs\n",
        "    outputs = Dense(n_classes, activation='softmax', kernel_initializer='he_normal')(x)\n",
        "    return outputs\n",
        "\n",
        "# The input tensor\n",
        "inputs = Input(shape=(224, 224, 3))\n",
        "\n",
        "# The Stem Convolution Group\n",
        "x = stem(inputs)\n",
        "\n",
        "# The learner\n",
        "x = learner(x)\n",
        "    \n",
        "# The Classifier for 1000 classes\n",
        "outputs = classifier(x, 2)\n",
        "\n",
        "# Instantiate the Model\n",
        "model = Model(inputs, outputs)"
      ],
      "execution_count": 24,
      "outputs": []
    },
    {
      "cell_type": "code",
      "metadata": {
        "id": "30cRQcbIFhED"
      },
      "source": [
        "from keras.callbacks import EarlyStopping, ModelCheckpoint\n",
        "es = EarlyStopping(monitor='val_loss',\n",
        "                   patience=5,\n",
        "                   mode='auto',\n",
        "                   restore_best_weights=True)\n",
        "checkpoint = ModelCheckpoint('best_weight_ResNetAdamTest.h5',\n",
        "                             monitor='val_accuracy',\n",
        "                             verbose=1,\n",
        "                             save_best_only=True,\n",
        "                             mode='auto')"
      ],
      "execution_count": 25,
      "outputs": []
    },
    {
      "cell_type": "code",
      "metadata": {
        "colab": {
          "base_uri": "https://localhost:8080/"
        },
        "id": "lbVk0DuzFlVT",
        "outputId": "98cd14ea-21c3-4230-cd53-a31d8c23b58b"
      },
      "source": [
        "from keras.optimizers import Adam, SGD, RMSprop, Adamax\n",
        "\n",
        "# train the model using the Adam optimizer\n",
        "print(\"[INFO] training network...\")\n",
        "opt = Adamax(lr=0.001,decay=1e-6)\n",
        "model.compile(loss=\"sparse_categorical_crossentropy\", optimizer=opt, metrics=[\"accuracy\"])\n",
        "H = model.fit(trainX, trainY, validation_data=(testX, testY), epochs=20, batch_size=32, callbacks=[es,checkpoint])"
      ],
      "execution_count": 26,
      "outputs": [
        {
          "output_type": "stream",
          "text": [
            "[INFO] training network...\n"
          ],
          "name": "stdout"
        },
        {
          "output_type": "stream",
          "text": [
            "/usr/local/lib/python3.7/dist-packages/tensorflow/python/keras/optimizer_v2/optimizer_v2.py:375: UserWarning: The `lr` argument is deprecated, use `learning_rate` instead.\n",
            "  \"The `lr` argument is deprecated, use `learning_rate` instead.\")\n"
          ],
          "name": "stderr"
        },
        {
          "output_type": "stream",
          "text": [
            "Epoch 1/20\n",
            "45/45 [==============================] - 53s 154ms/step - loss: 133.6013 - accuracy: 0.5185 - val_loss: 0.6609 - val_accuracy: 0.6884\n",
            "\n",
            "Epoch 00001: val_accuracy improved from -inf to 0.68842, saving model to best_weight_ResNetAdamTest.h5\n",
            "Epoch 2/20\n",
            "45/45 [==============================] - 5s 103ms/step - loss: 0.6090 - accuracy: 0.6976 - val_loss: 0.4753 - val_accuracy: 0.7747\n",
            "\n",
            "Epoch 00002: val_accuracy improved from 0.68842 to 0.77474, saving model to best_weight_ResNetAdamTest.h5\n",
            "Epoch 3/20\n",
            "45/45 [==============================] - 5s 103ms/step - loss: 0.3747 - accuracy: 0.8496 - val_loss: 0.2542 - val_accuracy: 0.8968\n",
            "\n",
            "Epoch 00003: val_accuracy improved from 0.77474 to 0.89684, saving model to best_weight_ResNetAdamTest.h5\n",
            "Epoch 4/20\n",
            "45/45 [==============================] - 5s 104ms/step - loss: 0.1892 - accuracy: 0.9286 - val_loss: 0.2286 - val_accuracy: 0.9032\n",
            "\n",
            "Epoch 00004: val_accuracy improved from 0.89684 to 0.90316, saving model to best_weight_ResNetAdamTest.h5\n",
            "Epoch 5/20\n",
            "45/45 [==============================] - 5s 103ms/step - loss: 0.0677 - accuracy: 0.9803 - val_loss: 0.1776 - val_accuracy: 0.9200\n",
            "\n",
            "Epoch 00005: val_accuracy improved from 0.90316 to 0.92000, saving model to best_weight_ResNetAdamTest.h5\n",
            "Epoch 6/20\n",
            "45/45 [==============================] - 5s 103ms/step - loss: 0.0689 - accuracy: 0.9693 - val_loss: 0.2194 - val_accuracy: 0.9263\n",
            "\n",
            "Epoch 00006: val_accuracy improved from 0.92000 to 0.92632, saving model to best_weight_ResNetAdamTest.h5\n",
            "Epoch 7/20\n",
            "45/45 [==============================] - 5s 104ms/step - loss: 0.0384 - accuracy: 0.9855 - val_loss: 0.2654 - val_accuracy: 0.9179\n",
            "\n",
            "Epoch 00007: val_accuracy did not improve from 0.92632\n",
            "Epoch 8/20\n",
            "45/45 [==============================] - 5s 105ms/step - loss: 0.0754 - accuracy: 0.9707 - val_loss: 0.1332 - val_accuracy: 0.9495\n",
            "\n",
            "Epoch 00008: val_accuracy improved from 0.92632 to 0.94947, saving model to best_weight_ResNetAdamTest.h5\n",
            "Epoch 9/20\n",
            "45/45 [==============================] - 5s 104ms/step - loss: 0.0324 - accuracy: 0.9917 - val_loss: 0.2101 - val_accuracy: 0.9432\n",
            "\n",
            "Epoch 00009: val_accuracy did not improve from 0.94947\n",
            "Epoch 10/20\n",
            "45/45 [==============================] - 5s 105ms/step - loss: 0.0159 - accuracy: 0.9956 - val_loss: 0.2026 - val_accuracy: 0.9453\n",
            "\n",
            "Epoch 00010: val_accuracy did not improve from 0.94947\n",
            "Epoch 11/20\n",
            "45/45 [==============================] - 5s 105ms/step - loss: 0.0327 - accuracy: 0.9907 - val_loss: 0.1608 - val_accuracy: 0.9516\n",
            "\n",
            "Epoch 00011: val_accuracy improved from 0.94947 to 0.95158, saving model to best_weight_ResNetAdamTest.h5\n",
            "Epoch 12/20\n",
            "45/45 [==============================] - 5s 104ms/step - loss: 0.0043 - accuracy: 0.9997 - val_loss: 0.2491 - val_accuracy: 0.9453\n",
            "\n",
            "Epoch 00012: val_accuracy did not improve from 0.95158\n",
            "Epoch 13/20\n",
            "45/45 [==============================] - 5s 107ms/step - loss: 0.0024 - accuracy: 0.9998 - val_loss: 0.2215 - val_accuracy: 0.9537\n",
            "\n",
            "Epoch 00013: val_accuracy improved from 0.95158 to 0.95368, saving model to best_weight_ResNetAdamTest.h5\n"
          ],
          "name": "stdout"
        }
      ]
    },
    {
      "cell_type": "code",
      "metadata": {
        "colab": {
          "base_uri": "https://localhost:8080/",
          "height": 590
        },
        "id": "8Dke0gmfFuGW",
        "outputId": "594b6aba-ebc7-4cb7-e51a-8ffa0633e425"
      },
      "source": [
        "import matplotlib.pyplot as plt\n",
        "\n",
        "print(H.history.keys())\n",
        "# summarize history for accuracy\n",
        "plt.plot(H.history['accuracy'])\n",
        "plt.plot(H.history['val_accuracy'])\n",
        "plt.title('model accuracy')\n",
        "plt.ylabel('accuracy')\n",
        "plt.xlabel('epoch')\n",
        "plt.legend(['train', 'test'], loc='upper left')\n",
        "plt.show()\n",
        "# summarize history for loss\n",
        "plt.plot(H.history['loss'])\n",
        "plt.plot(H.history['val_loss'])\n",
        "plt.title('model loss')\n",
        "plt.ylabel('loss')\n",
        "plt.xlabel('epoch')\n",
        "plt.legend(['train', 'test'], loc='upper left')\n",
        "plt.show()"
      ],
      "execution_count": 27,
      "outputs": [
        {
          "output_type": "stream",
          "text": [
            "dict_keys(['loss', 'accuracy', 'val_loss', 'val_accuracy'])\n"
          ],
          "name": "stdout"
        },
        {
          "output_type": "display_data",
          "data": {
            "image/png": "[encoded data removed]",
            "text/plain": [
              "<Figure size 432x288 with 1 Axes>"
            ]
          },
          "metadata": {
            "tags": [],
            "needs_background": "light"
          }
        },
        {
          "output_type": "display_data",
          "data": {
            "image/png": "[encoded data removed]",
            "text/plain": [
              "<Figure size 432x288 with 1 Axes>"
            ]
          },
          "metadata": {
            "tags": [],
            "needs_background": "light"
          }
        }
      ]
    },
    {
      "cell_type": "code",
      "metadata": {
        "colab": {
          "base_uri": "https://localhost:8080/"
        },
        "id": "vUInJd_TGDVs",
        "outputId": "065156fc-ec79-4ee1-844e-c8b4047f302a"
      },
      "source": [
        "from sklearn.preprocessing import LabelEncoder\n",
        "from sklearn.metrics import confusion_matrix, ConfusionMatrixDisplay, classification_report\n",
        "predictions = model.predict(testX, batch_size=32)\n",
        "print(classification_report(testY,predictions.argmax(axis=1),target_names = train_generator.class_indices))"
      ],
      "execution_count": 28,
      "outputs": [
        {
          "output_type": "stream",
          "text": [
            "              precision    recall  f1-score   support\n",
            "\n",
            "       covid       0.93      0.97      0.95       237\n",
            "      normal       0.97      0.92      0.95       238\n",
            "\n",
            "    accuracy                           0.95       475\n",
            "   macro avg       0.95      0.95      0.95       475\n",
            "weighted avg       0.95      0.95      0.95       475\n",
            "\n"
          ],
          "name": "stdout"
        }
      ]
    },
    {
      "cell_type": "code",
      "metadata": {
        "colab": {
          "base_uri": "https://localhost:8080/"
        },
        "id": "AcyrX9DAGSQ5",
        "outputId": "6f8381bf-7b33-4045-a3ca-cc88a1eb3b0c"
      },
      "source": [
        "cf_matrix = confusion_matrix(testY,predictions.argmax(axis=1))\n",
        "print(cf_matrix)"
      ],
      "execution_count": 30,
      "outputs": [
        {
          "output_type": "stream",
          "text": [
            "[[231   6]\n",
            " [ 18 220]]\n"
          ],
          "name": "stdout"
        }
      ]
    },
    {
      "cell_type": "code",
      "metadata": {
        "colab": {
          "base_uri": "https://localhost:8080/",
          "height": 295
        },
        "id": "wsMaGpzXGSv6",
        "outputId": "6ca5c572-b67b-4c8e-ae37-3809bcabcb68"
      },
      "source": [
        "cm = cf_matrix\n",
        "\n",
        "import seaborn as sns\n",
        "import matplotlib.pyplot as plt     \n",
        "ax= plt.subplot();\n",
        "sns.heatmap(cm, annot=True,fmt=\"d\",cmap='Blues')\n",
        "# labels, title and ticks\n",
        "ax.set_xlabel('Predicted label');ax.set_ylabel('True label'); \n",
        "ax.set_ylim(2.0, 0)\n",
        "ax.set_title('Confusion Matrix');\n",
        "ax.xaxis.set_ticklabels(['Covid','Normal']); \n",
        "ax.yaxis.set_ticklabels(['Covid','Normal']);"
      ],
      "execution_count": 31,
      "outputs": [
        {
          "output_type": "display_data",
          "data": {
            "image/png": "[encoded data removed]",
            "text/plain": [
              "<Figure size 432x288 with 2 Axes>"
            ]
          },
          "metadata": {
            "tags": [],
            "needs_background": "light"
          }
        }
      ]
    },
    {
      "cell_type": "code",
      "metadata": {
        "id": "mf7M7MDQFyLI"
      },
      "source": [
        "data2 = []\n",
        "for num,img_name in enumerate(test_generator.filenames): #load image\n",
        "    # gt_ind=test_generator.classes[num] #get the loaded image class index\n",
        "    img=cv2.imread(os.path.join('/content/drive/MyDrive/Dataset_TA/Gaussian/',img_name),-1)\n",
        "    img = cv2.cvtColor(img, cv2.COLOR_BGR2RGB)\n",
        "    img = np.array(img)\n",
        "    data2.append(img)"
      ],
      "execution_count": 32,
      "outputs": []
    },
    {
      "cell_type": "code",
      "metadata": {
        "colab": {
          "base_uri": "https://localhost:8080/",
          "height": 302
        },
        "id": "rjdAza7KF0td",
        "outputId": "9b2937e2-bf94-46df-d0e3-bee2671ac058"
      },
      "source": [
        "plt.imshow(data2[1])"
      ],
      "execution_count": 33,
      "outputs": [
        {
          "output_type": "stream",
          "text": [
            "Clipping input data to the valid range for imshow with RGB data ([0..1] for floats or [0..255] for integers).\n"
          ],
          "name": "stderr"
        },
        {
          "output_type": "execute_result",
          "data": {
            "text/plain": [
              "<matplotlib.image.AxesImage at 0x7f59be106dd0>"
            ]
          },
          "metadata": {
            "tags": []
          },
          "execution_count": 33
        },
        {
          "output_type": "display_data",
          "data": {
            "image/png": "[encoded data removed]",
            "text/plain": [
              "<Figure size 432x288 with 1 Axes>"
            ]
          },
          "metadata": {
            "tags": [],
            "needs_background": "light"
          }
        }
      ]
    },
    {
      "cell_type": "code",
      "metadata": {
        "id": "PUoAxHmkF2Xz"
      },
      "source": [
        "valX, valY = np.array(data2), np.array(test_generator.classes)"
      ],
      "execution_count": 34,
      "outputs": []
    },
    {
      "cell_type": "code",
      "metadata": {
        "colab": {
          "base_uri": "https://localhost:8080/"
        },
        "id": "1Ic_u9TQGN03",
        "outputId": "4322a154-58e9-4f69-ccf0-ad961f671653"
      },
      "source": [
        "from sklearn.preprocessing import LabelEncoder\n",
        "from sklearn.metrics import confusion_matrix, ConfusionMatrixDisplay, classification_report\n",
        "predictions = model.predict(valX, batch_size=32)\n",
        "print(classification_report(valY,predictions.argmax(axis=1),target_names = test_generator.class_indices))"
      ],
      "execution_count": 35,
      "outputs": [
        {
          "output_type": "stream",
          "text": [
            "              precision    recall  f1-score   support\n",
            "\n",
            "       covid       0.50      0.73      0.59        93\n",
            "      normal       0.61      0.36      0.46       107\n",
            "\n",
            "    accuracy                           0.54       200\n",
            "   macro avg       0.55      0.55      0.53       200\n",
            "weighted avg       0.56      0.54      0.52       200\n",
            "\n"
          ],
          "name": "stdout"
        }
      ]
    },
    {
      "cell_type": "code",
      "metadata": {
        "colab": {
          "base_uri": "https://localhost:8080/"
        },
        "id": "jikXkGvmGVhe",
        "outputId": "04177ee1-f34c-41f6-935f-d8ebb87c0712"
      },
      "source": [
        "cf_matrix = confusion_matrix(valY,predictions.argmax(axis=1))\n",
        "print(cf_matrix)"
      ],
      "execution_count": 36,
      "outputs": [
        {
          "output_type": "stream",
          "text": [
            "[[68 25]\n",
            " [68 39]]\n"
          ],
          "name": "stdout"
        }
      ]
    },
    {
      "cell_type": "code",
      "metadata": {
        "colab": {
          "base_uri": "https://localhost:8080/",
          "height": 295
        },
        "id": "52k-9rjmGPxl",
        "outputId": "21b161b1-158d-4abd-c761-af871ba4d1dd"
      },
      "source": [
        "cm = cf_matrix\n",
        "\n",
        "import seaborn as sns\n",
        "import matplotlib.pyplot as plt     \n",
        "ax= plt.subplot();\n",
        "sns.heatmap(cm, annot=True,fmt=\"d\",cmap='Blues')\n",
        "# labels, title and ticks\n",
        "ax.set_xlabel('Predicted label');ax.set_ylabel('True label'); \n",
        "ax.set_ylim(2.0, 0)\n",
        "ax.set_title('Confusion Matrix');\n",
        "ax.xaxis.set_ticklabels(['Covid','Normal']); \n",
        "ax.yaxis.set_ticklabels(['Covid','Normal']);"
      ],
      "execution_count": 37,
      "outputs": [
        {
          "output_type": "display_data",
          "data": {
            "image/png": "[encoded data removed]",
            "text/plain": [
              "<Figure size 432x288 with 2 Axes>"
            ]
          },
          "metadata": {
            "tags": [],
            "needs_background": "light"
          }
        }
      ]
    },
    {
      "cell_type": "code",
      "metadata": {
        "colab": {
          "base_uri": "https://localhost:8080/"
        },
        "id": "c92oDRvfGw1L",
        "outputId": "9529c3b1-b3b0-4b74-9e7c-437645809179"
      },
      "source": [
        "print(\"Evaluate on test data\")\n",
        "results = model.evaluate(valX, valY, batch_size=32)\n",
        "print(\"test loss, test acc:\", results)"
      ],
      "execution_count": 41,
      "outputs": [
        {
          "output_type": "stream",
          "text": [
            "Evaluate on test data\n",
            "7/7 [==============================] - 0s 38ms/step - loss: 1.4538 - accuracy: 0.5350\n",
            "test loss, test acc: [1.4538077116012573, 0.5350000262260437]\n"
          ],
          "name": "stdout"
        }
      ]
    }
  ]
}